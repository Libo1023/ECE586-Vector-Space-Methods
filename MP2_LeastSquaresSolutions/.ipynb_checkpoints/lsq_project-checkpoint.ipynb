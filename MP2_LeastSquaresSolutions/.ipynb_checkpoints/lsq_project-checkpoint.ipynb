{
 "cells": [
  {
   "cell_type": "code",
   "execution_count": 10,
   "metadata": {
    "ExecuteTime": {
     "end_time": "2018-11-12T05:37:06.281795Z",
     "start_time": "2018-11-12T05:37:06.185875Z"
    }
   },
   "outputs": [],
   "source": [
    "import numpy as np\n",
    "import pandas as pd\n",
    "import matplotlib.pyplot as plt\n",
    "import itertools as it\n",
    "from scipy.sparse import coo_matrix\n",
    "%matplotlib inline\n",
    "\n",
    "#from lsq_code import remove_outlier, create_vandermonde, solve_linear_LS, solve_linear_LS_gd, mnist_pairwise_LS\n",
    "\n",
    "from lsq_code import remove_outlier, create_vandermonde, solve_linear_LS, solve_linear_LS_gd, mnist_pairwise_LS\n",
    "\n",
    "# Other possibly useful functions\n",
    "from sklearn.model_selection import train_test_split\n",
    "from sklearn.metrics import accuracy_score, confusion_matrix"
   ]
  },
  {
   "cell_type": "code",
   "execution_count": 2,
   "metadata": {},
   "outputs": [
    {
     "name": "stdout",
     "output_type": "stream",
     "text": [
      "Vandermonde Example 1:\n",
      " [[1. 1. 1.]\n",
      " [1. 3. 9.]\n",
      " [1. 2. 4.]] \n",
      "\n",
      "Vandermonde Example 2:\n",
      " [[ 1. -2.  4. -8.]\n",
      " [ 1. -1.  1. -1.]\n",
      " [ 1.  0.  0.  0.]\n",
      " [ 1.  1.  1.  1.]\n",
      " [ 1.  2.  4.  8.]] \n",
      "\n",
      "solve_linear_LS Example 1:\n",
      " [-4.   6.5 -1.5] \n",
      "\n",
      "solve_linear_LS Example 2:\n",
      " [ 1.25714286  0.58333333  0.07142857 -0.08333333] \n",
      "\n",
      "solve_linear_gd Example 1:\n",
      " [-3.92367303  6.41369966 -1.47965981] \n",
      "\n",
      "solve_linear_gd Example 2:\n",
      " [ 1.24030161  0.51307179  0.07121913 -0.06784267] \n",
      "\n",
      "mnist_pairwise_LS Example 0 :\n",
      "Pairwise experiment, mapping 2 to -1, mapping 3 to 1\n",
      "training error = 1.88%, testing error = 3.82%\n",
      "Confusion matrix for Training Set is:\n",
      " [[2052   36]\n",
      " [  44 2131]]\n",
      "Confusion matrix for Test Set is:\n",
      " [[2023   66]\n",
      " [  97 2079]]\n",
      "results:  [0.01876613 0.03821805] \n",
      "\n",
      "mnist_pairwise_LS Example 1 :\n",
      "Pairwise experiment, mapping 2 to -1, mapping 3 to 1\n",
      "training error = 1.97%, testing error = 4.62%\n",
      "Confusion matrix for Training Set is:\n",
      " [[2058   30]\n",
      " [  54 2121]]\n",
      "Confusion matrix for Test Set is:\n",
      " [[1989  100]\n",
      " [  97 2079]]\n",
      "results:  [0.01970443 0.04618992] \n",
      "\n",
      "mnist_pairwise_LS Example 2 :\n",
      "Pairwise experiment, mapping 2 to -1, mapping 3 to 1\n",
      "training error = 1.90%, testing error = 3.99%\n",
      "Confusion matrix for Training Set is:\n",
      " [[2051   37]\n",
      " [  44 2131]]\n",
      "Confusion matrix for Test Set is:\n",
      " [[2019   70]\n",
      " [ 100 2076]]\n",
      "results:  [0.0190007  0.03985932] \n",
      "\n"
     ]
    },
    {
     "data": {
      "image/png": "[encoded data removed]",
      "text/plain": [
       "<Figure size 576x288 with 1 Axes>"
      ]
     },
     "metadata": {
      "needs_background": "light"
     },
     "output_type": "display_data"
    },
    {
     "data": {
      "image/png": "[encoded data removed]",
      "text/plain": [
       "<Figure size 576x288 with 1 Axes>"
      ]
     },
     "metadata": {
      "needs_background": "light"
     },
     "output_type": "display_data"
    },
    {
     "data": {
      "image/png": "[encoded data removed]",
      "text/plain": [
       "<Figure size 576x288 with 1 Axes>"
      ]
     },
     "metadata": {
      "needs_background": "light"
     },
     "output_type": "display_data"
    }
   ],
   "source": [
    "# lsq_code_test.py\n",
    "# Test Cases\n",
    "A1 = create_vandermonde(np.asarray([1,3,2]),2)\n",
    "print(\"Vandermonde Example 1:\\n\",A1,\"\\n\")\n",
    "\n",
    "A2 = create_vandermonde(np.arange(-2,3),3)\n",
    "print(\"Vandermonde Example 2:\\n\",A2,\"\\n\")\n",
    "\n",
    "z1 = solve_linear_LS(A1,np.asarray([1,2,3]))\n",
    "print(\"solve_linear_LS Example 1:\\n\",z1,\"\\n\")\n",
    "\n",
    "z2 = solve_linear_LS(A2,np.asarray([1,1,1,2,2]))\n",
    "print(\"solve_linear_LS Example 2:\\n\",z2,\"\\n\")\n",
    "\n",
    "z1 = solve_linear_LS_gd(A1,np.asarray([1,2,3]),0.01,50000)\n",
    "print(\"solve_linear_gd Example 1:\\n\",z1,\"\\n\")\n",
    "\n",
    "z2 = solve_linear_LS_gd(A2,np.asarray([1,1,1,2,2]),0.01,1000)\n",
    "print(\"solve_linear_gd Example 2:\\n\",z2,\"\\n\")\n",
    "\n",
    "df = pd.read_csv('mnist_train.csv')\n",
    "df['feature'] = df.apply(lambda row: row.values[1:], axis=1)\n",
    "df = df[['feature', 'label']]\n",
    "for i in range(3):\n",
    "    print(\"mnist_pairwise_LS Example\",i,\":\")\n",
    "    res = mnist_pairwise_LS(df, 2, 3, verbose=True)\n",
    "    print(\"results: \",res,\"\\n\")"
   ]
  },
  {
   "cell_type": "markdown",
   "metadata": {},
   "source": [
    "### Exercise 1\n",
    "\n",
    "When $n=1$, we can fit a degree-$m$ polynomial by choosing $f_{j}(x)=x^{j-1}$ and $M=m+1$. \n",
    "In this case, it follows that $A_{i,j}=x_{i}^{j-1}$\n",
    "and the matrix $A$ is called a Vandermonde matrix.\n",
    "Write a function to create Vandermonde matrix **(5 pt)**"
   ]
  },
  {
   "cell_type": "code",
   "execution_count": 11,
   "metadata": {
    "ExecuteTime": {
     "end_time": "2018-11-12T05:37:06.293104Z",
     "start_time": "2018-11-12T05:37:06.284399Z"
    }
   },
   "outputs": [
    {
     "data": {
      "text/plain": [
       "array([[  1.,   1.,   1.,   1.],\n",
       "       [  1.,   2.,   4.,   8.],\n",
       "       [  1.,   3.,   9.,  27.],\n",
       "       [  1.,   4.,  16.,  64.],\n",
       "       [  1.,   5.,  25., 125.],\n",
       "       [  1.,   6.,  36., 216.],\n",
       "       [  1.,   7.,  49., 343.],\n",
       "       [  1.,   8.,  64., 512.],\n",
       "       [  1.,   9.,  81., 729.]])"
      ]
     },
     "execution_count": 11,
     "metadata": {},
     "output_type": "execute_result"
    }
   ],
   "source": [
    "x = np.arange(1, 10)\n",
    "create_vandermonde(x, 3)"
   ]
  },
  {
   "cell_type": "markdown",
   "metadata": {},
   "source": [
    "### Exercise 2\n",
    "\n",
    "Write a function to solve least-square problem via linear algebra **(5 pt)**\n",
    "\n",
    "Implementation hint: check `numpy.linalg.lstsq`.\n",
    "\n",
    "Using the setup in the previous example, try fitting the points $(1,2),(2,3),(3,5),(4,7),(5,11),(6,13)$\n",
    "to a degree-2 polynomial.\n",
    "\n",
    "Print the mean squared error. **(5 pt)**\n",
    "\n",
    "Plot this polynomial (for $x\\in[0,7]$) along with the data points to see the quality of fit. **(5 pt)**"
   ]
  },
  {
   "cell_type": "code",
   "execution_count": 12,
   "metadata": {
    "ExecuteTime": {
     "end_time": "2018-11-12T05:37:06.945113Z",
     "start_time": "2018-11-12T05:37:06.303310Z"
    }
   },
   "outputs": [
    {
     "name": "stdout",
     "output_type": "stream",
     "text": [
      "normal equation polynomial fit is 0.3214 x^2 + 0.2071 x^1 + 1.4000\n",
      "normal equation MSE is 0.0810\n"
     ]
    },
    {
     "data": {
      "image/png": "[encoded data removed]",
      "text/plain": [
       "<Figure size 576x288 with 1 Axes>"
      ]
     },
     "metadata": {
      "needs_background": "light"
     },
     "output_type": "display_data"
    }
   ],
   "source": [
    "x = np.array([1, 2, 3, 4, 5, 6])\n",
    "y = np.array([2, 3, 5, 7, 11, 14])\n",
    "m = 2\n",
    "\n",
    "# Create Vandermonde matrix A\n",
    "A = create_vandermonde(x, m)\n",
    "\n",
    "# Use linear algebra to solve least-squares problem and minimize || y - A z ||^2\n",
    "z_hat = solve_linear_LS(A, y)\n",
    "\n",
    "# Compute the minimum square error\n",
    "num_data = len(y)\n",
    "#mse = float(sum(np.power(y - np.sum(A * z_hat, axis = 1), 2))) / num_data\n",
    "mse = float(sum(np.power(y - np.dot(A, z_hat), 2))) / num_data\n",
    "\n",
    "# Generate x/y plot points for the fitted polynomial\n",
    "#xx = np.linspace(0, 7)\n",
    "xx = np.array([1, 2, 3, 4, 5, 6])\n",
    "#yy = np.sum(A * z_hat, axis = 1)\n",
    "yy = np.dot(A, z_hat)\n",
    "\n",
    "plt.figure(figsize=(8, 4))\n",
    "plt.scatter(x, y, color='red', label='data points')\n",
    "plt.plot(xx, yy, linestyle='dotted',label='normal equation poly fit')\n",
    "plt.legend()\n",
    "\n",
    "poly1_expr = ' + '.join(['{0:.4f} x^{1}'.format(v, i) for i, v in enumerate(z_hat)][::-1])[:-4]\n",
    "print('normal equation polynomial fit is {0}'.format(poly1_expr))\n",
    "print('normal equation MSE is {0:.4f}'.format(mse))"
   ]
  },
  {
   "cell_type": "markdown",
   "metadata": {},
   "source": [
    "### Exercise 3\n",
    "\n",
    "Write a function to solve a least-squares problem via gradient descent. **(5 pt)**\n",
    "\n",
    "Print the mean squared error. **(5 pt)**\n",
    "\n",
    "Plot the resulting polynomial (for $x\\in[0,7]$) along with previous polynomial and original data points to see the quality of fit. **(5 pt)**"
   ]
  },
  {
   "cell_type": "code",
   "execution_count": 13,
   "metadata": {},
   "outputs": [
    {
     "name": "stdout",
     "output_type": "stream",
     "text": [
      "gradient descent polynomial fit is 0.2769 x^2 + 0.5426 x^1 + 0.8835\n",
      "previous MSE is 0.0810\n",
      "at most 20% larger than the previous MSE is 0.0971\n",
      "Current T (number of iterations) is 80000\n",
      "gradient descent MSE is 0.0953\n"
     ]
    },
    {
     "data": {
      "image/png": "[encoded data removed]",
      "text/plain": [
       "<Figure size 576x288 with 1 Axes>"
      ]
     },
     "metadata": {
      "needs_background": "light"
     },
     "output_type": "display_data"
    }
   ],
   "source": [
    "# Use gradient descent to solve least-squares problem and minimize || y - A z2 ||^2\n",
    "step = 0.0002\n",
    "\n",
    "#niter = 70000\n",
    "niter = 80000\n",
    "#niter = 500000\n",
    "\n",
    "z2_hat = solve_linear_LS_gd(A, y, step, niter)\n",
    "\n",
    "# Compute the minimum square error\n",
    "num_data = len(y)\n",
    "mse2 = float(sum(np.power(y - np.dot(A, z2_hat), 2))) / num_data\n",
    "\n",
    "# Generate y plot points for the gd fitted polynomial\n",
    "yy2 = np.dot(A, z2_hat)\n",
    "\n",
    "plt.figure(figsize=(8, 4))\n",
    "plt.scatter(x, y, color='red', label='data points')\n",
    "plt.plot(xx, yy, linestyle='dotted',label='normal equation poly fit')\n",
    "plt.plot(xx, yy2, linestyle='dashed', label='gradient descent poly fit')\n",
    "plt.legend()\n",
    "\n",
    "poly2_expr = ' + '.join(['{0:.4f} x^{1}'.format(v, i) for i, v in enumerate(z2_hat)][::-1])[:-4]\n",
    "print('gradient descent polynomial fit is {0}'.format(poly2_expr))\n",
    "\n",
    "print('previous MSE is {0:.4f}'.format(mse))\n",
    "print('at most 20% larger than the previous MSE is {0:.4f}'.format(mse * 1.2))\n",
    "print(\"Current T (number of iterations) is \" + str(niter))\n",
    "print('gradient descent MSE is {0:.4f}'.format(mse2))"
   ]
  },
  {
   "cell_type": "markdown",
   "metadata": {},
   "source": [
    "#### MNIST\n",
    "\n",
    "Read `mnist_train.csv`, create a dataframe with two columns, column `feature` contains all $x$ and column `label` contains all $y$.\n",
    "\n",
    "Plot the first 30 images."
   ]
  },
  {
   "cell_type": "code",
   "execution_count": 14,
   "metadata": {},
   "outputs": [
    {
     "data": {
      "image/png": "[encoded data removed]",
      "text/plain": [
       "<Figure size 1080x180 with 30 Axes>"
      ]
     },
     "metadata": {
      "needs_background": "light"
     },
     "output_type": "display_data"
    }
   ],
   "source": [
    "# read mnist csv file to a dataframe\n",
    "df = pd.read_csv('mnist_train.csv')\n",
    "# append feature column by merging all pixel columns\n",
    "df['feature'] = df.apply(lambda row: row.values[1:], axis=1)\n",
    "# only keep feature and label column\n",
    "df = df[['feature', 'label']]\n",
    "# display first 5 rows of the dataframe\n",
    "df.head()\n",
    "\n",
    "# Plot the first 30 images\n",
    "plt.figure(figsize=(15, 2.5))\n",
    "for i, row in df.iloc[:30].iterrows():\n",
    "    x, y = row['feature'], row['label']\n",
    "    plt.subplot(2, 15, i + 1)\n",
    "    plt.imshow(x.reshape(28, 28), cmap='gray')\n",
    "    plt.axis('off')\n",
    "    plt.title(y)"
   ]
  },
  {
   "cell_type": "code",
   "execution_count": 15,
   "metadata": {},
   "outputs": [],
   "source": [
    "# print(len(df))\n",
    "# print(len(df['feature'][0]))\n",
    "# print(type(df['feature'][0]))\n",
    "# #print(df['feature'][0])\n",
    "# print(type(df['label'][0]))\n",
    "# #print(df['label'][0])"
   ]
  },
  {
   "cell_type": "markdown",
   "metadata": {},
   "source": [
    "### Exercise 4\n",
    "\n",
    "Write the function `extract_and_split` to extract the all samples labeled with digit $n$ and randomly separate fraction of samples into training and testing groups. **(10 pt)**\n",
    "\n",
    "Implementation hint: check `sklearn.model_selection.train_test_split`.\n",
    "\n",
    "Pairwise experiment for applying least-square to classify digit $a$ and digit $b$. \n",
    "\n",
    "Follow the given steps in the template and implement the `mnist_pairwise_LS` function for pairwise experiment **(15 pt)**\n",
    "\n",
    "Possible implementation hint: check `sklearn.metrics.accuracy_score`, `sklearn.metrics.confusion_matrix`"
   ]
  },
  {
   "cell_type": "code",
   "execution_count": 16,
   "metadata": {
    "ExecuteTime": {
     "end_time": "2018-11-12T05:37:16.355345Z",
     "start_time": "2018-11-12T05:37:14.938389Z"
    },
    "scrolled": false
   },
   "outputs": [
    {
     "name": "stdout",
     "output_type": "stream",
     "text": [
      "Pairwise experiment, mapping 0 to -1, mapping 1 to 1\n",
      "training error = 0.43%, testing error = 0.79%\n",
      "Confusion matrix for Training Set is:\n",
      " [[2064    2]\n",
      " [  17 2325]]\n",
      "Confusion matrix for Test Set is:\n",
      " [[2047   19]\n",
      " [  16 2326]]\n"
     ]
    },
    {
     "data": {
      "text/plain": [
       "array([0.00431034, 0.00794011])"
      ]
     },
     "execution_count": 16,
     "metadata": {},
     "output_type": "execute_result"
    },
    {
     "data": {
      "image/png": "[encoded data removed]",
      "text/plain": [
       "<Figure size 576x288 with 1 Axes>"
      ]
     },
     "metadata": {
      "needs_background": "light"
     },
     "output_type": "display_data"
    }
   ],
   "source": [
    "# Pairwise experiment for LSQ to classify between 0 and 1\n",
    "mnist_pairwise_LS(df, 0, 1, verbose=True)"
   ]
  },
  {
   "cell_type": "markdown",
   "metadata": {},
   "source": [
    "### Exercise 5\n",
    "\n",
    "Repeat the above problem for all pairs of digits. For each pair of digits, report the classification error rates for the training and testing sets. The error rates can be formatted nicely into a triangular matrix.  Put testing error in the lower triangle and training error in the upper triangle.\n",
    "\n",
    "The code is given here in order demonstrate tqdm.\n",
    "Points awarded for reasonable values **(10 pt)**"
   ]
  },
  {
   "cell_type": "code",
   "execution_count": 17,
   "metadata": {
    "ExecuteTime": {
     "end_time": "2018-11-12T05:38:04.023889Z",
     "start_time": "2018-11-12T05:37:44.453306Z"
    }
   },
   "outputs": [
    {
     "name": "stderr",
     "output_type": "stream",
     "text": [
      "<ipython-input-17-bea7d5aad970>:3: TqdmDeprecationWarning: This function will be removed in tqdm==5.0.0\n",
      "Please use `tqdm.notebook.tqdm` instead of `tqdm.tqdm_notebook`\n",
      "  for a, b in tqdm(it.combinations(range(10), 2), total=45):\n"
     ]
    },
    {
     "data": {
      "application/vnd.jupyter.widget-view+json": {
       "model_id": "37bcb28b20174a4e8f67acc0aad1dc4e",
       "version_major": 2,
       "version_minor": 0
      },
      "text/plain": [
       "  0%|          | 0/45 [00:00<?, ?it/s]"
      ]
     },
     "metadata": {},
     "output_type": "display_data"
    },
    {
     "name": "stdout",
     "output_type": "stream",
     "text": [
      "[[0.   0.34 0.63 0.26 0.2  1.82 0.51 0.28 0.71 0.41]\n",
      " [1.23 0.   0.84 0.71 0.25 0.61 0.07 0.53 1.85 0.32]\n",
      " [2.19 2.71 0.   1.83 0.63 1.53 1.35 0.86 1.97 0.45]\n",
      " [1.65 2.12 4.29 0.   0.43 2.6  0.31 0.69 2.81 1.36]\n",
      " [0.93 1.39 2.52 1.71 0.   0.74 0.51 0.73 0.44 2.35]\n",
      " [3.58 1.91 3.79 5.72 1.91 0.   1.54 0.22 2.42 1.08]\n",
      " [2.27 1.59 2.67 1.93 1.36 3.5  0.   0.02 0.78 0.17]\n",
      " [0.84 1.56 2.61 2.15 2.31 1.54 1.03 0.   0.43 2.7 ]\n",
      " [1.68 3.77 4.27 5.68 1.23 4.96 2.29 2.36 0.   1.58]\n",
      " [1.51 1.24 2.37 2.83 5.11 3.33 0.98 5.61 3.54 0.  ]]\n"
     ]
    }
   ],
   "source": [
    "from tqdm import tqdm_notebook as tqdm\n",
    "num_trial, err_matrix = 1, np.zeros((10, 10))\n",
    "for a, b in tqdm(it.combinations(range(10), 2), total=45):\n",
    "    err_tr, err_te = np.mean([mnist_pairwise_LS(df, a, b) for _ in range(num_trial)], axis=0)\n",
    "    err_matrix[a, b], err_matrix[b, a] = err_tr, err_te\n",
    "\n",
    "print(np.round(err_matrix*100, 2))"
   ]
  },
  {
   "cell_type": "markdown",
   "metadata": {},
   "source": [
    "### Exercise 6\n",
    "\n",
    "But, what about a multi-class classifier for MNIST digits? \n",
    "For multi-class linear classification with d classes, one standard approach is to learn a linear mapping $f \\colon \\mathbb{R}^n \\to \\mathbb{R}^d $ where the “$y$”-value for the $i$-th class is chosen to be the standard basis vector $ \\underline{e}_i \\in \\mathbb{R}^d $. \n",
    "This is sometimes called one-hot encoding. \n",
    "Using the same $A$ matrix as before and a matrix $Y$, defined by $Y_{i,j}$ if observation $i$ in class $j$ and $Y_{i,j} = 0$ otherwise, we can solve for the coefficient matrix $Z \\in \\mathbb{R}^d$ coefficients .\n",
    "Then, the classifier maps a vector $\\underline{x}$ to class $i$ if the $i$-th element of $Z^T \\underline{x}$ is the largest element in the vector. \n",
    "\n",
    "Follow the steps in the template and implement the multi-class classification experiment **(20 pt)**"
   ]
  },
  {
   "cell_type": "code",
   "execution_count": 20,
   "metadata": {},
   "outputs": [],
   "source": [
    "################################################################################################\n",
    "def one_hot_encoding (y, c = 10) :\n",
    "    one_hot_array = np.eye(c)\n",
    "    one_hot_indices = np.array(y, dtype = int)\n",
    "    one_hot_indices = one_hot_indices.reshape(-1)\n",
    "    one_hot_array = one_hot_array[one_hot_indices]\n",
    "    one_hot_array = one_hot_array.reshape(list(y.shape) + [c])\n",
    "    return one_hot_array\n",
    "\n",
    "# Random Split/Shuffling\n",
    "total_samples = len(df)\n",
    "index_array = np.arange(total_samples)\n",
    "np.random.shuffle(index_array)\n",
    "df = df.iloc[index_array]\n",
    "test_size = 0.5\n",
    "#################################################################################################"
   ]
  },
  {
   "cell_type": "code",
   "execution_count": 21,
   "metadata": {
    "ExecuteTime": {
     "end_time": "2018-11-12T05:38:10.540579Z",
     "start_time": "2018-11-12T05:38:08.739216Z"
    }
   },
   "outputs": [
    {
     "name": "stdout",
     "output_type": "stream",
     "text": [
      "---------------------------------------------------------------------\n",
      "training error = 13.56%, testing error = 15.28%\n",
      "---------------------------------------------------------------------\n",
      "Confusion matrix for Training Set is:\n",
      " [[1986    1    8    4    7   17   20    1   23    1]\n",
      " [   0 2276    8    5    5    5    8    5   20    3]\n",
      " [  36   77 1703   42   32    1   72   34   67   11]\n",
      " [  13   56   56 1921   10   40   16   33   57   44]\n",
      " [   3   36   14    1 1826   15   16    6   11  110]\n",
      " [  60   33    6  172   42 1319   63   12   87   44]\n",
      " [  41   26   15    0   20   29 1890    0   13    0]\n",
      " [  21   72   15    9   53    3    3 1906    4  102]\n",
      " [  17  164   16   78   32   68   18    5 1606   46]\n",
      " [  29   21    3   48  128    2    0  153   25 1719]]\n",
      "----------------------------------------------------------------------\n",
      "Confusion matrix for Test Set is:\n",
      " [[1972    2   10   10   10   17   22    3   14    4]\n",
      " [   1 2269   18    8   11    7    7    3   21    4]\n",
      " [  36   93 1653   55   60    5   89   35   65   11]\n",
      " [  12   56   65 1774   13   37   15   40   53   40]\n",
      " [   4   45   17    6 1784   25   12    7   26  108]\n",
      " [  65   46    9  184   57 1354   66   19  114   43]\n",
      " [  37   24   29    2   31   34 1927    1   13    5]\n",
      " [  14   76   21   17   66    1    2 1902    0  114]\n",
      " [  24  144   23   85   43   82   29    7 1526   50]\n",
      " [  25   25    4   37  122    9    2  190   16 1630]]\n"
     ]
    }
   ],
   "source": [
    "#################################################################################################\n",
    "# Randomly split into training/testing set\n",
    "split_index = int(test_size * total_samples)\n",
    "tr = df.iloc[0:split_index]\n",
    "te = df.iloc[split_index:total_samples]\n",
    "\n",
    "# Construct the training set\n",
    "X_tr = np.zeros((len(tr), 785))\n",
    "y_tr = np.zeros(len(tr))\n",
    "for i in range(0, len(tr)) :\n",
    "    X_tr[i][0:784] = tr.iloc[i]['feature']\n",
    "    X_tr[i][784] = -1\n",
    "    y_tr[i] = tr.iloc[i]['label']\n",
    "\n",
    "# Construct the testing set\n",
    "X_te = np.zeros((len(te), 785))\n",
    "y_te = np.zeros(len(te))\n",
    "for i in range(0, len(te)) :\n",
    "    X_te[i][0:784] = te.iloc[i]['feature']\n",
    "    X_te[i][784] = -1\n",
    "    y_te[i] = te.iloc[i]['label']\n",
    "\n",
    "# Apply one-hot encoding to training labels\n",
    "Y = one_hot_encoding(y_tr)\n",
    "\n",
    "# Run least-square on training set\n",
    "Z = solve_linear_LS(X_tr, Y)\n",
    "\n",
    "# Compute estimation and misclassification on training set\n",
    "y_hat_tr = np.dot(X_tr, Z)\n",
    "total_train = len(tr)\n",
    "err_tr = np.sum(np.array([np.argmax(y_hat_tr, axis = 1) != y_tr])) / float(total_train)\n",
    "\n",
    "# Compute estimation and misclassification on training set\n",
    "y_hat_te = np.dot(X_te, Z)\n",
    "total_test = len(te)\n",
    "err_te = np.sum(np.array([np.argmax(y_hat_te, axis = 1) != y_te])) / float(total_test)\n",
    "\n",
    "print(\"---------------------------------------------------------------------\")\n",
    "print('training error = {0:.2f}%, testing error = {1:.2f}%'.format(100 * err_tr, 100 * err_te))\n",
    "print(\"---------------------------------------------------------------------\")\n",
    "# Compute confusion matrix\n",
    "cm_train = np.zeros((10, 10), dtype=np.int64)\n",
    "cm_test = np.zeros((10, 10), dtype=np.int64)\n",
    "\n",
    "y_pred_train = np.argmax(y_hat_tr, axis = 1)\n",
    "y_pred_test = np.argmax(y_hat_te, axis = 1)\n",
    "\n",
    "cm_train = confusion_matrix(y_true = y_tr, y_pred = y_pred_train)\n",
    "cm_test = confusion_matrix(y_true = y_te, y_pred = y_pred_test)\n",
    "\n",
    "# for a in range(10):\n",
    "#     for b in range(10):\n",
    "#         cm_train[a, b] = ((y_tr == a) & (y_hat_tr == b)).sum()\n",
    "# for a in range(10):\n",
    "#     for b in range(10):\n",
    "#         cm_test[a, b] = ((y_te == a) & (y_hat_te == b)).sum()\n",
    "\n",
    "print('Confusion matrix for Training Set is:\\n {0}'.format(cm_train))\n",
    "print(\"----------------------------------------------------------------------\")\n",
    "print('Confusion matrix for Test Set is:\\n {0}'.format(cm_test))\n",
    "##################################################################################################"
   ]
  },
  {
   "cell_type": "code",
   "execution_count": null,
   "metadata": {},
   "outputs": [],
   "source": []
  },
  {
   "cell_type": "code",
   "execution_count": null,
   "metadata": {},
   "outputs": [],
   "source": []
  },
  {
   "cell_type": "code",
   "execution_count": null,
   "metadata": {},
   "outputs": [],
   "source": []
  }
 ],
 "metadata": {
  "hide_input": false,
  "kernelspec": {
   "display_name": "Python 3",
   "language": "python",
   "name": "python3"
  },
  "language_info": {
   "codemirror_mode": {
    "name": "ipython",
    "version": 3
   },
   "file_extension": ".py",
   "mimetype": "text/x-python",
   "name": "python",
   "nbconvert_exporter": "python",
   "pygments_lexer": "ipython3",
   "version": "3.8.8"
  },
  "varInspector": {
   "cols": {
    "lenName": 16,
    "lenType": 16,
    "lenVar": 40
   },
   "kernels_config": {
    "python": {
     "delete_cmd_postfix": "",
     "delete_cmd_prefix": "del ",
     "library": "var_list.py",
     "varRefreshCmd": "print(var_dic_list())"
    },
    "r": {
     "delete_cmd_postfix": ") ",
     "delete_cmd_prefix": "rm(",
     "library": "var_list.r",
     "varRefreshCmd": "cat(var_dic_list()) "
    }
   },
   "position": {
    "height": "309px",
    "left": "1550px",
    "right": "20px",
    "top": "120px",
    "width": "350px"
   },
   "types_to_exclude": [
    "module",
    "function",
    "builtin_function_or_method",
    "instance",
    "_Feature"
   ],
   "window_display": false
  }
 },
 "nbformat": 4,
 "nbformat_minor": 2
}
