{
 "cells": [
  {
   "cell_type": "markdown",
   "metadata": {},
   "source": [
    "Implement the function stubs in altproj_code.py and complete lines with \"###\""
   ]
  },
  {
   "cell_type": "code",
   "execution_count": 1,
   "metadata": {
    "ExecuteTime": {
     "end_time": "2018-11-24T20:25:25.023369Z",
     "start_time": "2018-11-24T20:25:25.017077Z"
    }
   },
   "outputs": [],
   "source": [
    "import numpy as np\n",
    "import pandas as pd\n",
    "import matplotlib.pyplot as plt\n",
    "%matplotlib inline\n",
    "\n",
    "from numpy.random import rand, randn\n",
    "from scipy.linalg import inv, svd\n",
    "from scipy.optimize import linprog\n",
    "from tqdm import tqdm_notebook as tqdm\n",
    "\n",
    "from altproj_code import null_space, altproj, lp_altproj, kaczmarz\n",
    "# from altproj_code import null_space, altproj, kaczmarz, lp_altproj "
   ]
  },
  {
   "cell_type": "markdown",
   "metadata": {},
   "source": [
    "## Test Cases in altproj_code_test.py"
   ]
  },
  {
   "cell_type": "code",
   "execution_count": 2,
   "metadata": {},
   "outputs": [],
   "source": [
    "# Desired output of this script\n",
    "# -----------------------------\n",
    "#\n",
    "# altproj Example 1 err:\n",
    "#  [1.0752     0.99090432 0.91321742 0.84162118 0.77563808]\n",
    "# altproj Example 1:v\n",
    "#  [0.58172856 0.77563808] \n",
    "#\n",
    "# altproj Example 2 err:\n",
    "#  3.3587408979332825\n",
    "# altproj Example 2 v:\n",
    "#  [5.80196883 5.7414081  5.80196883 4.7037591  5.80196883] \n",
    "#\n",
    "# altproj Example 3 err:\n",
    "#  0.020871922644255747\n",
    "# altproj Example 3 v:\n",
    "#  [2.70685396 5.37727694 2.70685396 8.04162808 2.70685396] \n",
    "#\n",
    "# kaczmarz Example 4 err:\n",
    "#  0.028524403942799426\n",
    "# kaczmarz Example 4 X:\n",
    "#  [-0.13512375  0.0941078  -0.13512375  0.39621042 -0.13512375] \n",
    "#\n",
    "# kaczmarz Example 5 err:\n",
    "#  0.01468037281401613\n",
    "# kaczmarz Example 5 X:\n",
    "#  [-0.03184633 -0.03805198  0.04546457  0.02235128  0.04669109  0.108116  ] \n",
    "#\n",
    "#\n",
    "\n",
    "### If you project on x >= 0 constraints only by including them in the A matrix\n",
    "# lp_altproj Example 6 err:\n",
    "#  0.05188146770730828\n",
    "# lp_altproj Example 6 v:\n",
    "#  [-1.96541235 -1.98270618] \n",
    "#\n",
    "# lp_altproj Example 7 err:\n",
    "#  0.7250551085496868\n",
    "# lp_altproj Example 7 v:\n",
    "#  [2.01660003 1.81980856 1.62730644] \n",
    "\n",
    "### If you automatically project on the x >= 0 constraints after each row of A\n",
    "# lp_altproj Example 6 err:\n",
    "#  3.333333318673178\n",
    "# lp_altproj Example 6 v:\n",
    "#  [0.66666666 0.        ] \n",
    "#\n",
    "# lp_altproj Example 7 err:\n",
    "#  0.6566929819164207\n",
    "# lp_altproj Example 7 v:\n",
    "#  [2.02850424 1.83679799 1.64897667] "
   ]
  },
  {
   "cell_type": "code",
   "execution_count": 3,
   "metadata": {},
   "outputs": [
    {
     "data": {
      "application/vnd.jupyter.widget-view+json": {
       "model_id": "",
       "version_major": 2,
       "version_minor": 0
      },
      "text/plain": [
       "  0%|          | 0/10 [00:00<?, ?it/s]"
      ]
     },
     "metadata": {},
     "output_type": "display_data"
    },
    {
     "name": "stdout",
     "output_type": "stream",
     "text": [
      "altproj Example 1 err:\n",
      " [1.0752     0.99090432 0.91321742 0.84162118 0.77563808]\n",
      "altproj Example 1:v\n",
      " [0.58172856 0.77563808] \n",
      "\n"
     ]
    },
    {
     "data": {
      "application/vnd.jupyter.widget-view+json": {
       "model_id": "",
       "version_major": 2,
       "version_minor": 0
      },
      "text/plain": [
       "  0%|          | 0/10000 [00:00<?, ?it/s]"
      ]
     },
     "metadata": {},
     "output_type": "display_data"
    },
    {
     "name": "stdout",
     "output_type": "stream",
     "text": [
      "altproj Example 2 err:\n",
      " 3.3587408979185076\n",
      "altproj Example 2 v:\n",
      " [5.80196883 5.7414081  5.80196883 4.7037591  5.80196883] \n",
      "\n"
     ]
    },
    {
     "data": {
      "application/vnd.jupyter.widget-view+json": {
       "model_id": "",
       "version_major": 2,
       "version_minor": 0
      },
      "text/plain": [
       "  0%|          | 0/80000 [00:00<?, ?it/s]"
      ]
     },
     "metadata": {},
     "output_type": "display_data"
    },
    {
     "name": "stdout",
     "output_type": "stream",
     "text": [
      "altproj Example 3 err:\n",
      " 0.02087192261589621\n",
      "altproj Example 3 v:\n",
      " [2.70685396 5.37727694 2.70685396 8.04162808 2.70685396] \n",
      "\n"
     ]
    },
    {
     "data": {
      "application/vnd.jupyter.widget-view+json": {
       "model_id": "",
       "version_major": 2,
       "version_minor": 0
      },
      "text/plain": [
       "  0%|          | 0/40 [00:00<?, ?it/s]"
      ]
     },
     "metadata": {},
     "output_type": "display_data"
    },
    {
     "name": "stdout",
     "output_type": "stream",
     "text": [
      "kaczmarz Example 4 err:\n",
      " 0.028524403942799426\n",
      "kaczmarz Example 4 X:\n",
      " [-0.13512375  0.0941078  -0.13512375  0.39621042 -0.13512375] \n",
      "\n"
     ]
    },
    {
     "data": {
      "application/vnd.jupyter.widget-view+json": {
       "model_id": "",
       "version_major": 2,
       "version_minor": 0
      },
      "text/plain": [
       "  0%|          | 0/60 [00:00<?, ?it/s]"
      ]
     },
     "metadata": {},
     "output_type": "display_data"
    },
    {
     "name": "stdout",
     "output_type": "stream",
     "text": [
      "kaczmarz Example 5 err:\n",
      " 0.01468037281401613\n",
      "kaczmarz Example 5 X:\n",
      " [-0.03184633 -0.03805198  0.04546457  0.02235128  0.04669109  0.108116  ] \n",
      "\n"
     ]
    },
    {
     "data": {
      "application/vnd.jupyter.widget-view+json": {
       "model_id": "",
       "version_major": 2,
       "version_minor": 0
      },
      "text/plain": [
       "  0%|          | 0/20 [00:00<?, ?it/s]"
      ]
     },
     "metadata": {},
     "output_type": "display_data"
    },
    {
     "name": "stdout",
     "output_type": "stream",
     "text": [
      "lp_altproj Example 6 err:\n",
      " 0.05188146770730828\n",
      "lp_altproj Example 6 v:\n",
      " [-1.96541235 -1.98270618] \n",
      "\n"
     ]
    },
    {
     "data": {
      "application/vnd.jupyter.widget-view+json": {
       "model_id": "",
       "version_major": 2,
       "version_minor": 0
      },
      "text/plain": [
       "  0%|          | 0/30 [00:00<?, ?it/s]"
      ]
     },
     "metadata": {},
     "output_type": "display_data"
    },
    {
     "name": "stdout",
     "output_type": "stream",
     "text": [
      "lp_altproj Example 7 err:\n",
      " 0.7250551085496868\n",
      "lp_altproj Example 7 v:\n",
      " [2.01660003 1.81980856 1.62730644] \n",
      "\n"
     ]
    }
   ],
   "source": [
    "# Test altproj\n",
    "A = np.array([[4, 3]]).T\n",
    "B = np.array([[3, 4]]).T\n",
    "v0 = np.array([1, 1])\n",
    "n = 5\n",
    "v, err = altproj(A, B, v0, n)\n",
    "print(\"altproj Example 1 err:\\n\",err)\n",
    "print(\"altproj Example 1:v\\n\",v,\"\\n\")\n",
    "\n",
    "A = np.array([[1, 2, 1, 3, 1],[6, 7, 6, 7, 6]]).T\n",
    "B = np.array([[1, 2, 1, 3, 1],[7, 8, 7, 8, 7]]).T\n",
    "v0 = np.array([10, 2, 10, 3, 10])\n",
    "n = 5000\n",
    "v, err = altproj(A, B, v0, n)\n",
    "print(\"altproj Example 2 err:\\n\",err[-1])\n",
    "print(\"altproj Example 2 v:\\n\",v,\"\\n\")\n",
    "n = 40000\n",
    "v, err = altproj(A, B, v0, n)\n",
    "print(\"altproj Example 3 err:\\n\",err[-1])\n",
    "print(\"altproj Example 3 v:\\n\",v,\"\\n\")\n",
    "\n",
    "# Test kaczmarz\n",
    "A = np.array([[1, 2, 1, 3, 1],[6, 7, 6, 7, 6]])\n",
    "b = np.array([1, 1])\n",
    "X, err = kaczmarz(A, b, 20)\n",
    "print(\"kaczmarz Example 4 err:\\n\",err[-1])\n",
    "print(\"kaczmarz Example 4 X:\\n\",X[:,-1],\"\\n\")\n",
    "\n",
    "A = np.array([[4, 2, 7, 3, 1, 7],[6, 7, 6, 7, 6, 7],[1, 2, 3, 4, 5, 6]])\n",
    "b = np.array([1, 1, 1])\n",
    "X, err = kaczmarz(A, b, 20)\n",
    "print(\"kaczmarz Example 5 err:\\n\",err[-1])\n",
    "print(\"kaczmarz Example 5 X:\\n\",X[:,-1],\"\\n\")\n",
    "\n",
    "# Test lp_altproj\n",
    "A = np.array([[-2, 1],[1, -2]])\n",
    "b = np.array([2,2])\n",
    "v, err = lp_altproj(A, b, 10)\n",
    "print(\"lp_altproj Example 6 err:\\n\",err[-1])\n",
    "print(\"lp_altproj Example 6 v:\\n\",v,\"\\n\")\n",
    "\n",
    "A = np.array([[-4, 3,3],[3, -4, 3],[3, 3, -4]])\n",
    "b = np.array([3,4,5])\n",
    "v, err = lp_altproj(A, b, 10)\n",
    "print(\"lp_altproj Example 7 err:\\n\",err[-1])\n",
    "print(\"lp_altproj Example 7 v:\\n\",v,\"\\n\")"
   ]
  },
  {
   "cell_type": "markdown",
   "metadata": {},
   "source": [
    "### Exercise 1\n",
    "(10 pts program + 5 pts solution)\n",
    "Let $U$ and $W$ be subspaces of $\\mathbb{R}^5$ that are spanned, respectively, by the columns of the matrices $A$ and $B$ (shown below). \n",
    "Write a function `altproj(A,B,v0,n)` that returns $\\underline{v}_{2n}$ after $2n$ steps of alternating projection onto $U$ and $W$ starting from $\\underline{v}_0$. \n",
    "Use this function to find the orthogonal projection of $\\underline{v}_0$ (shown below) onto $ U \\cap W $. How large should $n$ be chosen so that the projection is correct to 4 decimal places (e.g., absolute error at most 0.0001 in each coordinate)?\n",
    "$$\n",
    "A = \n",
    "\\begin{bmatrix}\n",
    " 3 & 2 & 3 \\\\ 1 & 5 & 7 \\\\ 4 & 11 & 13 \\\\ 1 & 17 & 19 \\\\ 5 & 23 & 29\n",
    "\\end{bmatrix}, \\qquad\n",
    "B = \n",
    "\\begin{bmatrix}\n",
    " 1 & 1 & 2.5 \\\\ 2 & 0 & 6 \\\\ 2 & 1 & 12 \\\\ 2 & 0 & 18 \\\\ 6 & -3 & 26\n",
    "\\end{bmatrix}, \\qquad\n",
    "\\underline{v}_0 =\n",
    "\\begin{bmatrix}\n",
    " 1 \\\\2 \\\\ 3 \\\\ 4 \\\\ 5\n",
    "\\end{bmatrix}\n",
    "$$\n",
    "To find the intersection of $U$ and $W$, we note that the following Python snippet returns a matrix whose columns span $ U \\cap W $\n",
    "```\n",
    "basis_UintW = np.hstack([A, B]) @ null_space(np.hstack([A, -B])) \n",
    "```"
   ]
  },
  {
   "cell_type": "code",
   "execution_count": 4,
   "metadata": {
    "ExecuteTime": {
     "end_time": "2018-11-24T20:17:18.677058Z",
     "start_time": "2018-11-24T20:17:17.065164Z"
    }
   },
   "outputs": [
    {
     "data": {
      "application/vnd.jupyter.widget-view+json": {
       "model_id": "",
       "version_major": 2,
       "version_minor": 0
      },
      "text/plain": [
       "  0%|          | 0/40 [00:00<?, ?it/s]"
      ]
     },
     "metadata": {},
     "output_type": "display_data"
    },
    {
     "name": "stdout",
     "output_type": "stream",
     "text": [
      "(err[-1]) is shown below\n",
      "3.150207425473006e-06\n",
      "(v) is shown below\n",
      "[0.52442269 1.26461352 2.55925049 3.85388314 5.52001383]\n"
     ]
    },
    {
     "data": {
      "text/plain": [
       "[<matplotlib.lines.Line2D at 0x21c591974c0>]"
      ]
     },
     "execution_count": 4,
     "metadata": {},
     "output_type": "execute_result"
    },
    {
     "data": {
      "image/png": "[encoded data removed]",
      "text/plain": [
       "<Figure size 576x432 with 1 Axes>"
      ]
     },
     "metadata": {
      "needs_background": "light"
     },
     "output_type": "display_data"
    }
   ],
   "source": [
    "A = np.array([[3, 1, 4, 1, 5], [2, 5, 11, 17, 23], [3, 7, 13, 19, 29]]).T\n",
    "B = np.array([[1, 2, 2, 2, 6], [1, 0, 1, 0, -3], [2.5, 6, 12, 18, 26]]).T\n",
    "v0 = np.array([1, 2, 3, 4, 5])\n",
    "n = 20\n",
    "v, err = altproj(A, B, v0, n)\n",
    "\n",
    "################################################\n",
    "print(\"(err[-1]) is shown below\")\n",
    "print(err[-1])\n",
    "print(\"(v) is shown below\")\n",
    "print(v)\n",
    "################################################\n",
    "\n",
    "plt.figure(figsize=(8, 6))\n",
    "plt.semilogy(np.arange(1, n + 1), err)"
   ]
  },
  {
   "cell_type": "markdown",
   "metadata": {},
   "source": [
    "### Exercise 2\n",
    "(10 pts program + 5 pts solution)\n",
    "Write a function `kaczmarz(A,b,I)` that returns a matrix $X$ with $I$ columns corresponding\n",
    "to the Kaczmarz iteration after $i = 1, 2, ..., I$ full passes through the Kaczmarz algorithm\n",
    "for the matrix $A$ and right-hand side $\\underline{b}$ (e.g., one full pass equals $m$ steps). \n",
    "Use this function to find the minimum-norm solution of linear system $A \\underline{x} = \\underline{b}$ for\n",
    "$$\n",
    "A = \n",
    "\\begin{bmatrix}\n",
    " 2 & 5 & 11 & 17 & 23 \\\\ 3 & 7 & 13 & 19 & 29\n",
    "\\end{bmatrix}, \\qquad\n",
    "\\underline{b} =\n",
    "\\begin{bmatrix}\n",
    " 228 \\\\ 227\n",
    "\\end{bmatrix}\n",
    "$$\n",
    "Plot the error (on a log scale) versus the number of full passes for $I = 500$."
   ]
  },
  {
   "cell_type": "code",
   "execution_count": 5,
   "metadata": {
    "ExecuteTime": {
     "end_time": "2018-11-24T20:26:45.384446Z",
     "start_time": "2018-11-24T20:26:44.227830Z"
    }
   },
   "outputs": [
    {
     "data": {
      "application/vnd.jupyter.widget-view+json": {
       "model_id": "",
       "version_major": 2,
       "version_minor": 0
      },
      "text/plain": [
       "  0%|          | 0/1000 [00:00<?, ?it/s]"
      ]
     },
     "metadata": {},
     "output_type": "display_data"
    },
    {
     "data": {
      "text/plain": [
       "[<matplotlib.lines.Line2D at 0x21c5a3c4be0>]"
      ]
     },
     "execution_count": 5,
     "metadata": {},
     "output_type": "execute_result"
    },
    {
     "data": {
      "image/png": "[encoded data removed]",
      "text/plain": [
       "<Figure size 576x432 with 1 Axes>"
      ]
     },
     "metadata": {
      "needs_background": "light"
     },
     "output_type": "display_data"
    }
   ],
   "source": [
    "A = np.array([[2, 5, 11, 17, 23], [3, 7, 13, 19, 29]])\n",
    "b = np.array([228, 227])\n",
    "I = 500\n",
    "X, err = kaczmarz(A, b, I)\n",
    "\n",
    "plt.figure(figsize=(8, 6))\n",
    "plt.semilogy(np.arange(1, I + 1), err)"
   ]
  },
  {
   "cell_type": "markdown",
   "metadata": {},
   "source": [
    "### Exercise 3\n",
    "(10 pts)\n",
    "Repeat the experiment with $I = 100$ for a random system defined by `A = randn(500,1000)`\n",
    "and `b = A @ randn(1000)`. \n",
    "Compare the iterative solution with the true minimum-norm solution \n",
    "$ \\hat{\\underline{x}} = A^H {(A A^H)}^{-1} \\underline{b} $."
   ]
  },
  {
   "cell_type": "code",
   "execution_count": 9,
   "metadata": {
    "ExecuteTime": {
     "end_time": "2018-11-24T20:18:17.012640Z",
     "start_time": "2018-11-24T20:18:14.991772Z"
    }
   },
   "outputs": [
    {
     "data": {
      "application/vnd.jupyter.widget-view+json": {
       "model_id": "",
       "version_major": 2,
       "version_minor": 0
      },
      "text/plain": [
       "  0%|          | 0/50000 [00:00<?, ?it/s]"
      ]
     },
     "metadata": {},
     "output_type": "display_data"
    },
    {
     "data": {
      "image/png": "[encoded data removed]",
      "text/plain": [
       "<Figure size 576x432 with 1 Axes>"
      ]
     },
     "metadata": {
      "needs_background": "light"
     },
     "output_type": "display_data"
    }
   ],
   "source": [
    "A = randn(500, 1000)\n",
    "b = A @ randn(1000)\n",
    "I = 100\n",
    "X, err = kaczmarz(A, b, I)\n",
    "\n",
    "plt.figure(figsize=(8, 6))\n",
    "plt.semilogy(np.arange(1, I + 1), err)\n",
    "\n",
    "### x_hat = \n",
    "### x_hat_err = \n",
    "###################################################################\n",
    "x_hat = np.dot(np.dot(A.T, inv(np.dot(A, A.T))), b)\n",
    "###################################################################\n",
    "\n",
    "plt.title(f'norm of difference between xhat and Kaczmarz is {np.linalg.norm(x_hat - X[:, -1]):.2e}');"
   ]
  },
  {
   "cell_type": "markdown",
   "metadata": {},
   "source": [
    "### Exercise 4\n",
    "(10 pts program + 5 pts solution)\n",
    "Consider the linear program\n",
    "$$\n",
    "\\min ~ \\underline{c}^T \\underline{x}\n",
    "\\quad \\textrm{subject to} \\quad\n",
    "A \\underline{x} \\ge \\underline{b}, \\quad \\underline{x} \\ge 0\n",
    "$$\n",
    "with\n",
    "$$\n",
    "\\underline{c} = \n",
    "\\begin{bmatrix}\n",
    "    3 \\\\ -1 \\\\ 2\n",
    "\\end{bmatrix}, \\quad\n",
    "A = \n",
    "\\begin{bmatrix}\n",
    "    2 & -1 & 1 \\\\ 1 & 0 & 2 \\\\ -7 & 4 & -6\n",
    "\\end{bmatrix}, \\quad\n",
    "\\underline{b} = \n",
    "\\begin{bmatrix}\n",
    "    -1 \\\\ 2 \\\\ 1\n",
    "\\end{bmatrix}, \\quad\n",
    "$$\n",
    "Let $p^*$ denote the optimum value of this program.\n",
    "Then, $p^* \\le 0$ is satisfied if and only if there is a non-negative $\\underline{x} = (x_1, x_2, x_3)^T$ satisfying\n",
    "$$\n",
    "\\begin{align}\n",
    "2x_1 - x_2 + x_3 &\\ge -1 \\\\\n",
    "x_1 + 2x_3 &\\ge 2 \\\\\n",
    "-7x_1 + 4x_2 - 6x_3 &\\ge 1 \\\\\n",
    "-3x_1 + x_2 - 2x_3 &\\ge 0\n",
    "\\end{align}\n",
    "$$\n",
    "where the last inequality restricts the value of the program to be at most $0$.\n",
    "One can find the optimum value `p` and an optimizer `x` with the command \n",
    "```\n",
    "res = linprog(c, A_ub=-A, b_ub=-b, bounds=[(0, None)] * c.size, method=’interior-point’)\n",
    "x, p = res.x, res.fun\n",
    "```\n",
    "\n",
    "Starting from $\\underline{x}_0 = 0$, write a program that uses alternating projections onto half spaces (see (6)) to find a non-negative vector satisfying the above inequalities. \n",
    "\n",
    "Warning: don’t forget to also project onto the half spaces defined by the non-negativity constraints $ x_1 \\ge 0, x_2 \\ge 0, x_3 \\ge 0 $. \n",
    "\n",
    "Use the result to find a vector that satisfies all the inequalities. \n",
    "How many iterations are required so that the\n",
    "absolute error is at most 0.0001 in each coordinate?"
   ]
  },
  {
   "cell_type": "code",
   "execution_count": 10,
   "metadata": {
    "ExecuteTime": {
     "end_time": "2018-11-24T20:20:10.791150Z",
     "start_time": "2018-11-24T20:20:10.576764Z"
    }
   },
   "outputs": [
    {
     "name": "stdout",
     "output_type": "stream",
     "text": [
      "     con: array([], dtype=float64)\n",
      "     fun: 1.8272050539280826e-12\n",
      " message: 'Optimization terminated successfully.'\n",
      "     nit: 5\n",
      "   slack: array([8.82960371e-13, 3.84137167e-13, 1.00000000e+00])\n",
      "  status: 0\n",
      " success: True\n",
      "       x: array([1.50428214e-12, 2.00000000e+00, 1.00000000e+00])\n"
     ]
    },
    {
     "data": {
      "application/vnd.jupyter.widget-view+json": {
       "model_id": "",
       "version_major": 2,
       "version_minor": 0
      },
      "text/plain": [
       "  0%|          | 0/3500 [00:00<?, ?it/s]"
      ]
     },
     "metadata": {},
     "output_type": "display_data"
    },
    {
     "name": "stdout",
     "output_type": "stream",
     "text": [
      "True True\n"
     ]
    },
    {
     "data": {
      "text/plain": [
       "array([0., 2., 1.])"
      ]
     },
     "execution_count": 10,
     "metadata": {},
     "output_type": "execute_result"
    },
    {
     "data": {
      "image/png": "[encoded data removed]",
      "text/plain": [
       "<Figure size 576x432 with 1 Axes>"
      ]
     },
     "metadata": {
      "needs_background": "light"
     },
     "output_type": "display_data"
    }
   ],
   "source": [
    "c = np.array([3, -1, 2])\n",
    "A = np.array([[2, -1, 1], [1, 0, 2], [-7, 4, -6]])\n",
    "b = np.array([-1, 2, 1])\n",
    "\n",
    "res = linprog(c, A_ub=-A, b_ub=-b, bounds=[(0, None)] * c.size, method='interior-point')\n",
    "print(res)\n",
    "\n",
    "I = 500\n",
    "# Do not forget constraint xi >= 0\n",
    "### A1 = \n",
    "### b1 = \n",
    "######################################################################################\n",
    "A1 = np.array([[2,-1,1], [1,0,2], [-7,4,-6], [-3,1,-2], [1,0,0], [0,1,0], [0,0,1]])\n",
    "b1 = np.array([-1, 2, 1, 0, 0, 0, 0])\n",
    "######################################################################################\n",
    "x, err = lp_altproj(A1, b1, I)\n",
    "\n",
    "plt.figure(figsize=(8, 6))\n",
    "plt.semilogy(np.arange(1, I + 1), err)\n",
    "\n",
    "x = np.round(x,10)\n",
    "print(np.all(A @ x - b >= 0), np.all(x >= 0))\n",
    "x"
   ]
  },
  {
   "cell_type": "markdown",
   "metadata": {},
   "source": [
    "### Exercise 5\n",
    "(10 pts + 5 pts for value and strict feasibililty point)\n",
    "Consider the “random” convex optimization problem defined by\n",
    "```\n",
    "c = randn(1000)\n",
    "A = np.vstack([-np.ones((1, 1000)), randn(500, 1000)])\n",
    "b = np.concatenate([[-1000], A[1:] @ rand(1000)])\n",
    "```\n",
    "Modify $A$ and $b$ (by adding one row and one element) so that your function can be used to prove that the value of the convex optimization problem, in (3), is at most −1000. Try using `I = 1000` passes\n",
    "through all 501 inequality constraints.\n",
    "This type of iteration typically terminates with an “almost feasible” $\\underline{x}$. \n",
    "To find a strictly feasible point, try running the same algorithm with the argument $ \\underline{b} + \\epsilon $ for some small $ \\epsilon > 0 $  (e.g., try $ \\epsilon = {10}^{-6} $).\n",
    "Then, the resulting $ \\underline{x} $ can satisfy `np.all(A @ x - b > 0)`"
   ]
  },
  {
   "cell_type": "code",
   "execution_count": 11,
   "metadata": {
    "ExecuteTime": {
     "end_time": "2018-11-24T20:21:09.250431Z",
     "start_time": "2018-11-24T20:20:59.120217Z"
    }
   },
   "outputs": [
    {
     "data": {
      "application/vnd.jupyter.widget-view+json": {
       "model_id": "",
       "version_major": 2,
       "version_minor": 0
      },
      "text/plain": [
       "  0%|          | 0/1502000 [00:00<?, ?it/s]"
      ]
     },
     "metadata": {},
     "output_type": "display_data"
    },
    {
     "name": "stdout",
     "output_type": "stream",
     "text": [
      "True True [-1000.000001]\n",
      "-1198.5327823524615\n"
     ]
    },
    {
     "data": {
      "image/png": "[encoded data removed]",
      "text/plain": [
       "<Figure size 576x432 with 1 Axes>"
      ]
     },
     "metadata": {
      "needs_background": "light"
     },
     "output_type": "display_data"
    }
   ],
   "source": [
    "np.random.seed(0)\n",
    "c = randn(1000)\n",
    "A = np.vstack([-np.ones((1, 1000)), randn(500, 1000)])\n",
    "b = np.concatenate([[-1000], A[1:] @ rand(1000)])\n",
    "\n",
    "I, ep = 1000, 1e-6\n",
    "# Do not forget constraint xi >= 0, and c^T x <= -1000\n",
    "### A1 = \n",
    "### b1 = \n",
    "#######################################################################\n",
    "A1 = np.vstack([A, -c, np.identity(1000)])\n",
    "b1 = np.concatenate([b, [1000], np.zeros(1000)])\n",
    "#######################################################################\n",
    "x, err = lp_altproj(A1, b1 + ep, I)\n",
    "print(np.all(A @ x - b > 0), np.all(x > 0), c.reshape(1, -1) @ x)\n",
    "\n",
    "plt.figure(figsize=(8, 6))\n",
    "plt.semilogy(np.arange(1, I + 1), err)\n",
    "\n",
    "res = linprog(c, A_ub=-A, b_ub=-b, bounds=[(0, None)] * 1000, method='interior-point')\n",
    "print(res.fun)"
   ]
  },
  {
   "cell_type": "code",
   "execution_count": 12,
   "metadata": {},
   "outputs": [
    {
     "data": {
      "text/plain": [
       "True"
      ]
     },
     "execution_count": 12,
     "metadata": {},
     "output_type": "execute_result"
    }
   ],
   "source": [
    "np.all(x>0)"
   ]
  },
  {
   "cell_type": "code",
   "execution_count": 13,
   "metadata": {},
   "outputs": [
    {
     "data": {
      "text/plain": [
       "True"
      ]
     },
     "execution_count": 13,
     "metadata": {},
     "output_type": "execute_result"
    }
   ],
   "source": [
    "np.all((A@x-b)>0)"
   ]
  },
  {
   "cell_type": "markdown",
   "metadata": {},
   "source": [
    "### Exercise 6\n",
    "(10 pts) Repeat the MNIST training exercise from the Least-Squares Handout using the training method described above. \n",
    "First, extract the indices of all the 2’s and randomly separate the samples into equal-sized training and testing groups. \n",
    "Second, do the same for the 3’s. Now, extend each vector to length 785 by appending a −1. This will allow the system to learn a general hyperplane separation.\n",
    "\n",
    "Next, use alternating projections to design a linear classifier to separate for 2’s and 3’s. For the resulting linear function, report the classification error rate and confusion matrices for the both the training and test sets. Is there any benefit to choosing $s<1$? Also, for the test set, compute the histogram of the function output separately for each class and then plot the two histograms together. \n",
    "This shows easy or hard it is to separate the two classes.\n",
    "\n",
    "Depending on your randomized separation into training and test sets, the training data may or may not be linearly separable. \n",
    "Comment on what happens to the test set performance when the error rate does converge to zero for the training set."
   ]
  },
  {
   "cell_type": "code",
   "execution_count": 14,
   "metadata": {},
   "outputs": [],
   "source": [
    "# import numpy as np\n",
    "# import pandas as pd\n",
    "# import matplotlib.pyplot as plt\n",
    "# %matplotlib inline\n",
    "# from numpy.random import rand, randn\n",
    "# from scipy.linalg import inv, svd\n",
    "# from scipy.optimize import linprog\n",
    "# from tqdm import tqdm_notebook as tqdm\n",
    "# from altproj_code import null_space, altproj, lp_altproj, kaczmarz\n",
    "\n",
    "import itertools as it\n",
    "from scipy.sparse import coo_matrix\n",
    "\n",
    "# Other possibly useful functions\n",
    "from sklearn.model_selection import train_test_split\n",
    "from sklearn.metrics import accuracy_score, confusion_matrix"
   ]
  },
  {
   "cell_type": "code",
   "execution_count": 15,
   "metadata": {},
   "outputs": [],
   "source": [
    "## Helper functions you don't need to modify\n",
    "\n",
    "# Function to remove outliers before plotting histogram\n",
    "def remove_outlier(x, thresh=3.5):\n",
    "    \"\"\"\n",
    "    returns points that are not outliers to make histogram prettier\n",
    "    reference: https://stackoverflow.com/questions/11882393/matplotlib-disregard-outliers-when-plotting/11886564\n",
    "    Arguments:\n",
    "        x {numpy.ndarray} -- 1d-array, points to be filtered\n",
    "        thresh {float} -- the modified z-score to use as a threshold. Observations with\n",
    "                          a modified z-score (based on the median absolute deviation) greater\n",
    "                          than this value will be classified as outliers.\n",
    "    Returns:\n",
    "        x_filtered {numpy.ndarray} -- 1d-array, filtered points after dropping outlier\n",
    "    \"\"\"\n",
    "    if len(x.shape) == 1: x = x[:,None]\n",
    "    median = np.median(x, axis=0)\n",
    "    diff = np.sqrt(((x - median)**2).sum(axis=-1))\n",
    "    modified_z_score = 0.6745 * diff / np.median(diff)\n",
    "    x_filtered = x[modified_z_score <= thresh]\n",
    "    return x_filtered\n",
    "\n",
    "## End of helper functions"
   ]
  },
  {
   "cell_type": "code",
   "execution_count": 16,
   "metadata": {},
   "outputs": [],
   "source": [
    "## Coding Exercise Starts Here\n",
    "\n",
    "# General function to compute Vandermonde matrix for Exercise 2.2\n",
    "def create_vandermonde(x, m):\n",
    "    \"\"\"\n",
    "    Arguments:\n",
    "        x {numpy.ndarray} -- 1d-array of (x_1, x_2, ..., x_n)\n",
    "        m {int} -- a non-negative integer, degree of polynomial fit\n",
    "    Returns:\n",
    "        A {numpy.ndarray} -- an n x (m+1) matrix where A_{ij} = x_i^{j-1}\n",
    "    \"\"\"\n",
    "    # Add code to compute Vandermonde A\n",
    "    #################################################################\n",
    "    n = len(x)\n",
    "    A = np.zeros((n, m+1))\n",
    "    for i in range(0, n) :\n",
    "        for j in range(0, m+1) :\n",
    "            if j == 0 :\n",
    "                A[i][j] = 1\n",
    "            else :\n",
    "                A[i][j] = x[i] ** j\n",
    "    #################################################################\n",
    "    return A"
   ]
  },
  {
   "cell_type": "code",
   "execution_count": 17,
   "metadata": {},
   "outputs": [],
   "source": [
    "# # General function to solve linear least-squares via normal equations for Exercise 2.2\n",
    "# def solve_linear_LS(A, y):\n",
    "#     \"\"\"\n",
    "#     Arguments:\n",
    "#         A {numpy.ndarray} -- an m x n matrix\n",
    "#         y {numpy.ndarray} -- a length-m vector\n",
    "#     Returns:\n",
    "#         z_hat {numpy.ndarray} -- length-n vector, the optimal solution for the given linear least-square problem\n",
    "#     \"\"\"\n",
    "#     # Add code to compute least squares solution z_hat via linear algebra\n",
    "#     #################################################################\n",
    "#     # The previous default of (-1) will use \n",
    "#     # the machine precision times max(M, N).\n",
    "#     z_hat_tuple = np.linalg.lstsq(A, y, rcond = -1)\n",
    "#     z_hat = z_hat_tuple[0]\n",
    "#     #################################################################\n",
    "#     return z_hat"
   ]
  },
  {
   "cell_type": "code",
   "execution_count": 18,
   "metadata": {},
   "outputs": [],
   "source": [
    "# # General function to solve linear least-squares via via partial gradient descent for Exercise 2.2\n",
    "# def solve_linear_LS_gd(A, y, step, niter):\n",
    "#     \"\"\"\n",
    "#     Arguments:\n",
    "#         A {numpy.ndarray} -- an m x n matrix\n",
    "#         y {numpy.ndarray} -- a length-m vector\n",
    "#         step -- a floating point number, step size\n",
    "#         niter -- a non-negative integer, number of updates\n",
    "#     Returns:\n",
    "#         z_hat {numpy.ndarray} -- length-n vector, the optimal solution for the given linear least-square problem\n",
    "#     \"\"\"\n",
    "#     # Add code to approximate least squares solution z_hat via gradient descent\n",
    "#     #####################################################################################\n",
    "#     m = A.shape[0]\n",
    "#     n = A.shape[1]\n",
    "#     z_hat = np.zeros(n)\n",
    "#     for t in range(0, niter) :\n",
    "#         z_hat = z_hat + step * (y[t%m] - np.dot(A[t%m, :], z_hat)) * A[t%m, :]\n",
    "#     #####################################################################################\n",
    "#     return z_hat"
   ]
  },
  {
   "cell_type": "code",
   "execution_count": 19,
   "metadata": {},
   "outputs": [],
   "source": [
    "# General function to extract samples with given labels and randomly split into test and training sets for Exercise 2.3\n",
    "def extract_and_split(df, d, test_size=0.5):\n",
    "    \"\"\"\n",
    "    extract the samples with given labels and randomly separate the samples into training and testing groups, \n",
    "    extend each vector to length 785 by appending a −1\n",
    "    Arguments:\n",
    "        df {dataframe} -- the dataframe of MNIST dataset\n",
    "        d {int} -- digit needs to be extracted, can be 0, 1, ..., 9\n",
    "        test_size {float} -- the fraction of testing set, default value is 0.5\n",
    "    Returns:\n",
    "        X_tr {numpy.ndarray} -- training set features, a matrix with 785 columns\n",
    "                                each row corresponds the feature of a sample\n",
    "        y_tr {numpy.ndarray} -- training set labels, 1d-array\n",
    "                                each element corresponds the label of a sample\n",
    "        X_te {numpy.ndarray} -- testing set features, a matrix with 785 columns \n",
    "                                each row corresponds the feature of a sample\n",
    "        y_te {numpy.ndarray} -- testing set labels, 1d-array\n",
    "                                each element corresponds the label of a sample\n",
    "    \"\"\"\n",
    "    # Add code here extract data and randomize order\n",
    "    ##########################################################################################\n",
    "    d_count = 0\n",
    "    for i in range(0, len(df)) :\n",
    "        if df['label'][i] == d :\n",
    "            d_count = d_count + 1\n",
    "        else :\n",
    "            continue\n",
    "    d_features = np.zeros((d_count, 785))\n",
    "    d_labels = np.zeros(d_count)\n",
    "\n",
    "    d_index = 0\n",
    "    for i in range(0, len(df)) :\n",
    "        if df['label'][i] == d :\n",
    "            d_features[d_index][0:784] = df['feature'][i]\n",
    "            d_features[d_index][784] = -1\n",
    "            d_labels[d_index] = d \n",
    "            d_index = d_index + 1\n",
    "        else :\n",
    "            continue\n",
    "\n",
    "    X_tr, X_te, y_tr, y_te = train_test_split(d_features, d_labels, test_size = test_size)\n",
    "    ##########################################################################################\n",
    "    return X_tr, X_te, y_tr, y_te  "
   ]
  },
  {
   "cell_type": "code",
   "execution_count": 20,
   "metadata": {},
   "outputs": [],
   "source": [
    "def mnist_pairwise_altproj(df, a, b, solver, test_size=0.5, verbose=False):\n",
    "    \n",
    "    # Find all samples labeled with digit a and split into train/test sets\n",
    "    ###################################################################################################################\n",
    "    Xa_tr, Xa_te, ya_tr, ya_te = extract_and_split(df, a, test_size)\n",
    "\n",
    "    # Find all samples labeled with digit b and split into train/test sets\n",
    "    Xb_tr, Xb_te, yb_tr, yb_te = extract_and_split(df, b, test_size)\n",
    "\n",
    "    # Construct the full training set\n",
    "    X_tr = np.concatenate((Xa_tr, Xb_tr))\n",
    "    y_tr = np.concatenate((ya_tr, yb_tr))\n",
    "\n",
    "    for i in range(0, len(y_tr)) :\n",
    "        if y_tr[i] == a :\n",
    "            y_tr[i] = -1\n",
    "        if y_tr[i] == b :\n",
    "            y_tr[i] = 1\n",
    "    \n",
    "    # Construct the full testing set\n",
    "    X_te = np.concatenate((Xa_te, Xb_te))\n",
    "    y_te = np.concatenate((ya_te, yb_te))\n",
    "\n",
    "    for i in range(0, len(y_te)) :\n",
    "        if y_te[i] == a :\n",
    "            y_te[i] = -1\n",
    "        if y_te[i] == b :\n",
    "            y_te[i] = 1\n",
    "    \n",
    "    # Run least-square on training set\n",
    "    # z_hat = solve_linear_LS(X_tr.astype(float), y_tr.astype(float))\n",
    "    \n",
    "    # Optional: Try also solving this problem with cyclic partial gradient descent\n",
    "    # and compare the two methods.\n",
    "    # z_hat = solve_linear_LS_gd(X_tr.astype(float), y_tr.astype(float), step = 0.0002, niter = 10000)\n",
    "    \n",
    "    # altproj solver\n",
    "    A_train = np.multiply(X_tr, y_tr[:, np.newaxis])\n",
    "    z_hat, err_solver = solver(A_train, np.ones(y_tr.shape[0]))\n",
    "    \n",
    "        \n",
    "    # Compute estimate and classification error for training set\n",
    "    y_hat_tr = np.dot(X_tr, z_hat)\n",
    "\n",
    "    for i in range(0, len(y_hat_tr)) :\n",
    "        if y_hat_tr[i] >= 0 :\n",
    "            y_hat_tr[i] = 1 \n",
    "        else :\n",
    "            y_hat_tr[i] = -1\n",
    "\n",
    "    err_tr = 1 - accuracy_score(y_true = y_tr, y_pred = y_hat_tr)\n",
    "    \n",
    "    # Compute estimate and classification error for training set\n",
    "    y_hat_te = np.dot(X_te, z_hat)\n",
    "\n",
    "    for i in range(0, len(y_hat_te)) :\n",
    "        if y_hat_te[i] >= 0 :\n",
    "            y_hat_te[i] = 1\n",
    "        else :\n",
    "            y_hat_te[i] = -1\n",
    "\n",
    "    err_te = 1 - accuracy_score(y_true = y_te, y_pred = y_hat_te)\n",
    "    \n",
    "    if verbose:\n",
    "        print('Pairwise experiment, mapping {0} to -1, mapping {1} to 1'.format(a, b))\n",
    "        print('training error = {0:.2f}%, testing error = {1:.2f}%'.format(100 * err_tr, 100 * err_te))\n",
    "        \n",
    "        # Compute confusion matrix\n",
    "        cm_train = np.zeros((2, 2), dtype=np.int64)\n",
    "        cm_test = np.zeros((2, 2), dtype=np.int64)\n",
    "\n",
    "        # cm[0, 0] = ((y_te == -1) & (y_hat_te == -1)).sum()\n",
    "        # cm[0, 1] = ((y_te == -1) & (y_hat_te == 1)).sum()\n",
    "        # cm[1, 0] = ((y_te == 1) & (y_hat_te == -1)).sum()\n",
    "        # cm[1, 1] = ((y_te == 1) & (y_hat_te == 1)).sum()\n",
    "\n",
    "        cm_train = confusion_matrix(y_true = y_tr, y_pred = y_hat_tr)\n",
    "        cm_test = confusion_matrix(y_true = y_te, y_pred = y_hat_te)\n",
    "\n",
    "        print('Confusion matrix for Training Set is:\\n {0}'.format(cm_train))\n",
    "        print('Confusion matrix for Test Set is:\\n {0}'.format(cm_test))\n",
    "\n",
    "        # Compute the histogram of the function output separately for each class \n",
    "        # Then plot the two histograms together\n",
    "        ya_te_hat, yb_te_hat = Xa_te @ z_hat, Xb_te @ z_hat\n",
    "\n",
    "        # ya_te_hat = np.dot(Xa_te, z_hat)\n",
    "        # yb_te_hat = np.dot(Xb_te, z_hat)\n",
    "\n",
    "        output = [remove_outlier(ya_te_hat).flatten(), remove_outlier(yb_te_hat).flatten()]\n",
    "\n",
    "        plt.figure(figsize=(8, 4))\n",
    "        plt.hist(output, bins=50)\n",
    "    \n",
    "    res = np.array([err_tr, err_te])\n",
    "    ###################################################################################################################\n",
    "    \n",
    "    return z_hat, res"
   ]
  },
  {
   "cell_type": "code",
   "execution_count": 21,
   "metadata": {},
   "outputs": [
    {
     "data": {
      "image/png": "[encoded data removed]",
      "text/plain": [
       "<Figure size 1080x180 with 30 Axes>"
      ]
     },
     "metadata": {
      "needs_background": "light"
     },
     "output_type": "display_data"
    }
   ],
   "source": [
    "# read mnist csv file to a dataframe\n",
    "df = pd.read_csv('mnist_train.csv')\n",
    "# append feature column by merging all pixel columns\n",
    "df['feature'] = df.apply(lambda row: row.values[1:], axis=1)\n",
    "# only keep feature and label column\n",
    "df = df[['feature', 'label']]\n",
    "# display first 5 rows of the dataframe\n",
    "df.head()\n",
    "\n",
    "# Plot the first 30 images\n",
    "plt.figure(figsize=(15, 2.5))\n",
    "for i, row in df.iloc[:30].iterrows():\n",
    "    x, y = row['feature'], row['label']\n",
    "    plt.subplot(2, 15, i + 1)\n",
    "    plt.imshow(x.reshape(28, 28), cmap='gray')\n",
    "    plt.axis('off')\n",
    "    plt.title(y)"
   ]
  },
  {
   "cell_type": "code",
   "execution_count": 30,
   "metadata": {
    "ExecuteTime": {
     "end_time": "2018-11-24T20:22:31.960345Z",
     "start_time": "2018-11-24T20:22:29.976629Z"
    }
   },
   "outputs": [
    {
     "data": {
      "application/vnd.jupyter.widget-view+json": {
       "model_id": "",
       "version_major": 2,
       "version_minor": 0
      },
      "text/plain": [
       "  0%|          | 0/426300 [00:00<?, ?it/s]"
      ]
     },
     "metadata": {},
     "output_type": "display_data"
    },
    {
     "name": "stdout",
     "output_type": "stream",
     "text": [
      "Pairwise experiment, mapping 2 to -1, mapping 3 to 1\n",
      "training error = 3.45%, testing error = 4.10%\n",
      "Confusion matrix for Training Set is:\n",
      " [[1968  120]\n",
      " [  27 2148]]\n",
      "Confusion matrix for Test Set is:\n",
      " [[1945  144]\n",
      " [  31 2145]]\n"
     ]
    },
    {
     "data": {
      "image/png": "[encoded data removed]",
      "text/plain": [
       "<Figure size 576x288 with 1 Axes>"
      ]
     },
     "metadata": {
      "needs_background": "light"
     },
     "output_type": "display_data"
    }
   ],
   "source": [
    "# Modify the step size of projection s < 1.\n",
    "#solver = lambda A, b: lp_altproj(A, b + 1e-6, 100, 1)\n",
    "#solver = lambda A, b: lp_altproj(A, b + 1e-6, 100, 0.1)\n",
    "solver = lambda A, b: lp_altproj(A, b + 1e-6, 100, 0.01)\n",
    "\n",
    "# Modify the number of full passes through the alternating projection I > 100.\n",
    "#solver = lambda A, b: lp_altproj(A, b + 1e-6, 100, 1)\n",
    "#solver = lambda A, b: lp_altproj(A, b + 1e-6, 500, 1)\n",
    "#solver = lambda A, b: lp_altproj(A, b + 1e-6, 1000, 1)\n",
    "\n",
    "z_hat, res = mnist_pairwise_altproj(df, 2, 3, solver, verbose=True)\n",
    "\n",
    "# Try different pairwise classifications.\n",
    "#z_hat, res = mnist_pairwise_altproj(df, 2, 0, solver, verbose=True)\n",
    "#z_hat, res = mnist_pairwise_altproj(df, 2, 1, solver, verbose=True)\n",
    "#z_hat, res = mnist_pairwise_altproj(df, 2, 2, solver, verbose=True)\n",
    "#z_hat, res = mnist_pairwise_altproj(df, 2, 4, solver, verbose=True)\n",
    "#z_hat, res = mnist_pairwise_altproj(df, 2, 5, solver, verbose=True)\n",
    "#z_hat, res = mnist_pairwise_altproj(df, 2, 6, solver, verbose=True)\n",
    "#z_hat, res = mnist_pairwise_altproj(df, 2, 7, solver, verbose=True)\n",
    "#z_hat, res = mnist_pairwise_altproj(df, 2, 8, solver, verbose=True)\n",
    "#z_hat, res = mnist_pairwise_altproj(df, 2, 9, solver, verbose=True)"
   ]
  },
  {
   "cell_type": "markdown",
   "metadata": {},
   "source": [
    "### Exercise 7\n",
    "(optional)\n",
    "Describe how this approach should be extended to multi-class linear classification\n",
    "(parameterized by $ Z \\in \\mathbb{R}^{n \\times d} $) where the classifier maps a vector $\\underline{v}$ to class $j$ if the $j$-th element\n",
    "of $ Z^T \\underline{v} $ is the largest element in the vector. \n",
    "Use the implied alternating-projection solution to design a multi-class classifier for MNIST.\n",
    "Is there any benefit to choosing $s<1$?"
   ]
  },
  {
   "cell_type": "code",
   "execution_count": 31,
   "metadata": {
    "ExecuteTime": {
     "end_time": "2018-11-19T22:00:50.719775Z",
     "start_time": "2018-11-19T21:57:06.809844Z"
    }
   },
   "outputs": [],
   "source": [
    "### solver = lambda A, b: lp_altproj(A, b + 1e-6, 100, 1)\n",
    "### Z, res = mnist_multiclass_altproj(df, solver)"
   ]
  },
  {
   "cell_type": "code",
   "execution_count": null,
   "metadata": {},
   "outputs": [],
   "source": []
  },
  {
   "cell_type": "code",
   "execution_count": null,
   "metadata": {},
   "outputs": [],
   "source": []
  }
 ],
 "metadata": {
  "hide_input": false,
  "kernelspec": {
   "display_name": "Python 3",
   "language": "python",
   "name": "python3"
  },
  "language_info": {
   "codemirror_mode": {
    "name": "ipython",
    "version": 3
   },
   "file_extension": ".py",
   "mimetype": "text/x-python",
   "name": "python",
   "nbconvert_exporter": "python",
   "pygments_lexer": "ipython3",
   "version": "3.8.8"
  },
  "varInspector": {
   "cols": {
    "lenName": 16,
    "lenType": 16,
    "lenVar": 40
   },
   "kernels_config": {
    "python": {
     "delete_cmd_postfix": "",
     "delete_cmd_prefix": "del ",
     "library": "var_list.py",
     "varRefreshCmd": "print(var_dic_list())"
    },
    "r": {
     "delete_cmd_postfix": ") ",
     "delete_cmd_prefix": "rm(",
     "library": "var_list.r",
     "varRefreshCmd": "cat(var_dic_list()) "
    }
   },
   "position": {
    "height": "361px",
    "left": "1068px",
    "right": "20px",
    "top": "120px",
    "width": "350px"
   },
   "types_to_exclude": [
    "module",
    "function",
    "builtin_function_or_method",
    "instance",
    "_Feature"
   ],
   "window_display": false
  }
 },
 "nbformat": 4,
 "nbformat_minor": 2
}
