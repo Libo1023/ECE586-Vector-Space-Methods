{
 "cells": [
  {
   "cell_type": "markdown",
   "metadata": {
    "colab_type": "text",
    "id": "usCttVkykran"
   },
   "source": [
    "Try to implement the functions in fsmc_code.py and complete lines with \"###\""
   ]
  },
  {
   "cell_type": "code",
   "execution_count": 1,
   "metadata": {
    "ExecuteTime": {
     "end_time": "2018-10-22T15:49:53.124544Z",
     "start_time": "2018-10-22T15:49:53.119759Z"
    },
    "colab": {},
    "colab_type": "code",
    "id": "nRhUCVs5krap"
   },
   "outputs": [],
   "source": [
    "import numpy as np\n",
    "import matplotlib.pyplot as plt\n",
    "import matplotlib as mpl\n",
    "from scipy.linalg import null_space\n",
    "\n",
    "# Old code for making LaTeX work\n",
    "#mpl.rcParams['text.usetex'] = True\n",
    "#mpl.rcParams['text.latex.preamble'] = [r'\\usepackage{amsfonts}']\n",
    "\n",
    "%matplotlib inline"
   ]
  },
  {
   "cell_type": "code",
   "execution_count": 2,
   "metadata": {
    "colab": {},
    "colab_type": "code",
    "id": "2bvJ4E1EDA7z"
   },
   "outputs": [],
   "source": [
    "from fsmc_code import compute_Phi_ET, simulate_hitting_time, stationary_distribution"
   ]
  },
  {
   "cell_type": "code",
   "execution_count": 3,
   "metadata": {},
   "outputs": [
    {
     "name": "stdout",
     "output_type": "stream",
     "text": [
      "Markov transition matrix:\n",
      " [[0.5 0.5 0. ]\n",
      " [0.5 0.  0.5]\n",
      " [0.  0.  1. ]] \n",
      "\n",
      "Expected hitting times E[T_ij]:\n",
      " [[0.         2.         5.98897748]\n",
      " [0.5        0.         3.99318771]\n",
      " [0.         0.         0.        ]] \n",
      "\n",
      "Pr(T_ij <= 2):\n",
      " [[1.   0.75 0.25]\n",
      " [0.5  1.   0.5 ]\n",
      " [0.   0.   1.  ]] \n",
      "\n",
      "Pr(T_ij <= 3):\n",
      " [[1.    0.875 0.375]\n",
      " [0.5   1.    0.625]\n",
      " [0.    0.    1.   ]] \n",
      "\n",
      "E[T_1j] Sim:\n",
      " [0.   2.   6.13] \n",
      "\n",
      "Markov transition matrix:\n",
      " [[0.7 0.2 0.1]\n",
      " [0.2 0.3 0.5]\n",
      " [0.1 0.2 0.7]] \n",
      "\n",
      "Stationary distribution:\n",
      " [[0.30555556]\n",
      " [0.22222222]\n",
      " [0.47222222]] \n",
      "\n"
     ]
    }
   ],
   "source": [
    "# Test script for fsmc_code.py\n",
    "#\n",
    "# Desired output of this script\n",
    "# -----------------------------\n",
    "#\n",
    "# Markov transition matrix:\n",
    "#  [[0.5 0.5 0. ]\n",
    "#  [0.5 0.  0.5]\n",
    "#  [0.  0.  1. ]] \n",
    "#\n",
    "# Expected hitting times E[T_ij]:\n",
    "#  [[0.         2.         5.98897748]\n",
    "#  [0.5        0.         3.99318771]\n",
    "#  [0.         0.         0.        ]] \n",
    "#\n",
    "# Pr(T_ij <= 2):\n",
    "#  [[1.   0.75 0.25]\n",
    "#  [0.5  1.   0.5 ]\n",
    "#  [0.   0.   1.  ]] \n",
    "#\n",
    "# Pr(T_ij <= 3):\n",
    "#  [[1.    0.875 0.375]\n",
    "#  [0.5   1.    0.625]\n",
    "#  [0.    0.    1.   ]] \n",
    "#\n",
    "# E[T_1j] Sim:\n",
    "#  [0.    2.026 6.018] \n",
    "#\n",
    "# Markov transition matrix:\n",
    "#  [[0.7 0.2 0.1]\n",
    "#  [0.2 0.3 0.5]\n",
    "#  [0.1 0.2 0.7]] \n",
    "#\n",
    "# Stationary distribution:\n",
    "#  [0.30555556 0.22222222 0.47222222] \n",
    "\n",
    "\n",
    "# Test code for expected hitting time\n",
    "P = np.array([[0.5, 0.5, 0], [0.5, 0, 0.5], [0, 0, 1]])  \n",
    "Phi_list, ET = compute_Phi_ET(P, 40)\n",
    "print(\"Markov transition matrix:\\n\",P,\"\\n\")\n",
    "print(\"Expected hitting times E[T_ij]:\\n\",ET,\"\\n\")\n",
    "print(\"Pr(T_ij <= 2):\\n\",Phi_list[2],\"\\n\")\n",
    "print(\"Pr(T_ij <= 3):\\n\",Phi_list[3],\"\\n\")\n",
    "\n",
    "# Test code for simulating hitting time\n",
    "ETsim = np.zeros([3])\n",
    "for j in range(3):\n",
    "    T = simulate_hitting_time(P, [0, j], 500)\n",
    "    ETsim[j] = np.mean(T)\n",
    "print(\"E[T_1j] Sim:\\n\",ETsim,\"\\n\")\n",
    "\n",
    "# Test code for computing stationary distribution\n",
    "P = np.array([[0.7, 0.2, 0.1], [0.2, 0.3, 0.5], [0.1, 0.2, 0.7]])\n",
    "pi = stationary_distribution(P)\n",
    "print(\"Markov transition matrix:\\n\",P,\"\\n\")\n",
    "print(\"Stationary distribution:\\n\",pi,\"\\n\")"
   ]
  },
  {
   "cell_type": "markdown",
   "metadata": {
    "colab_type": "text",
    "id": "GJY7t9Elkras"
   },
   "source": [
    "### Exercise 1\n",
    "\n",
    "What is the distribution of the number of fair coin tosses before one observes 3 heads in a row? To solve this, consider a 4-state Markov chain with transition probability matrix\n",
    "$$\n",
    "    P = \n",
    "    \\begin{bmatrix}\n",
    "        0.5 & 0.5 & 0 & 0 \\\\\n",
    "        0.5 & 0 & 0.5 & 0 \\\\\n",
    "        0.5 & 0 & 0 & 0.5 \\\\\n",
    "        0 & 0 & 0 & 1\n",
    "    \\end{bmatrix}\n",
    "$$\n",
    "where $ X_t = 1 $ if the previous toss was tails, $ X_t = 2 $ if the last two tosses were tails then heads, $ X_t = 3 $ if the last three tosses were tails then heads twice, and $ X_t = 4 $ is an absorbing state that is reached when the last three tosses are heads. "
   ]
  },
  {
   "cell_type": "markdown",
   "metadata": {
    "colab_type": "text",
    "id": "WaGXZhEwkrat"
   },
   "source": [
    "* ** (15 pts) ** Write a computer program (e.g., in Python, Matlab, ...) to compute $ \\Pr(T_{1,4} = m) $ for $ m = 1, 2, \\ldots, 100 $ and ** (10 pts) ** use this to compute and print an estimate of the expected number of tosses $ \\mathbb{E}[T_{1,4}] $ "
   ]
  },
  {
   "cell_type": "code",
   "execution_count": 4,
   "metadata": {
    "ExecuteTime": {
     "end_time": "2018-10-22T16:00:09.170580Z",
     "start_time": "2018-10-22T16:00:08.876025Z"
    },
    "colab": {},
    "colab_type": "code",
    "id": "nhLLPgCEkrau",
    "scrolled": false
   },
   "outputs": [
    {
     "data": {
      "text/plain": [
       "Text(0.5, 1.0, 'E[T_{1,4}] = 13.970568255020394')"
      ]
     },
     "execution_count": 4,
     "metadata": {},
     "output_type": "execute_result"
    },
    {
     "data": {
      "image/png": "[encoded data removed]",
      "text/plain": [
       "<Figure size 720x432 with 1 Axes>"
      ]
     },
     "metadata": {
      "needs_background": "light"
     },
     "output_type": "display_data"
    }
   ],
   "source": [
    "# See compute_Phi_ET in fsmc_code.py\n",
    "\n",
    "P = np.array([[0.5, 0.5, 0, 0], [0.5, 0, 0.5, 0], [0.5, 0, 0, 0.5], [0, 0, 0, 1]])  \n",
    "Phi_list, ET = compute_Phi_ET(P, 100)\n",
    "\n",
    "m = np.arange(1, 101)                             ### steps to be plotted\n",
    "Pr = Phi_list[m, 0, 3] - Phi_list[(m - 1), 0, 3]  ### \\Pr(T_{1,4} = m) for all m\n",
    "E = ET[0, 3]                                       ### \\mathbb{E}[T_{1,4}]\n",
    "\n",
    "plt.figure(figsize=(10, 6))\n",
    "plt.stem(m, Pr, use_line_collection=True)\n",
    "plt.xlabel(r'm')\n",
    "plt.ylabel(r'Pr(T_{1,4}=m)')\n",
    "plt.title(r'E[T_{1,4}] = ' + str(E))"
   ]
  },
  {
   "cell_type": "markdown",
   "metadata": {
    "colab_type": "text",
    "id": "CKdEpYL_kraw"
   },
   "source": [
    "* ** (15 pts) ** Write a computer program that generates 500 realizations from this Markov chain and ** (10 pts) ** uses them to plot a histogram of $ T_{1,4} $ and compute/print an estimate of the expected number of tosses $ \\mathbb{E}[T_{1,4}] $."
   ]
  },
  {
   "cell_type": "code",
   "execution_count": 5,
   "metadata": {
    "ExecuteTime": {
     "end_time": "2018-10-21T20:14:09.256385Z",
     "start_time": "2018-10-21T20:14:08.210502Z"
    },
    "colab": {},
    "colab_type": "code",
    "id": "-Wm6FuHlkrax"
   },
   "outputs": [
    {
     "data": {
      "text/plain": [
       "Text(0.5, 1.0, 'mean of T_{1,4} = 14.276')"
      ]
     },
     "execution_count": 5,
     "metadata": {},
     "output_type": "execute_result"
    },
    {
     "data": {
      "image/png": "[encoded data removed]",
      "text/plain": [
       "<Figure size 720x432 with 1 Axes>"
      ]
     },
     "metadata": {
      "needs_background": "light"
     },
     "output_type": "display_data"
    }
   ],
   "source": [
    "# implement simulate_hitting_time(P, states, nr) in fsmc_code.py\n",
    "        \n",
    "T = simulate_hitting_time(P, [0, 3], 500)\n",
    "plt.figure(figsize=(10, 6))\n",
    "plt.hist(T, bins=np.arange(max(T))-0.5)\n",
    "plt.title(r'mean of T_{1,4} = ' + str(np.mean(T)))"
   ]
  },
  {
   "cell_type": "markdown",
   "metadata": {
    "colab_type": "text",
    "id": "zvG61B86kraz"
   },
   "source": [
    "### Exercise 2\n",
    "\n",
    "Consider the miniature chutes and ladders game shown in Figure 1. \n",
    "Assume a player starts on the space labeled 1 and plays by rolling a fair four-sided die and then moves that number of spaces. \n",
    "If a player lands on the bottom of a ladder, then they automatically climb to the top. \n",
    "If a player lands at the top of a slide, then they automatically slide to the bottom. \n",
    "This process can be modeled by a Markov chain with $ n = 16 $ states where each state is associated with a square where players can start their turn (e.g., players never start at the bottom of a ladder or the top of a slide). \n",
    "To finish the game, players must land exactly on space 20 (moves beyond this are not taken). "
   ]
  },
  {
   "cell_type": "markdown",
   "metadata": {},
   "source": [
    "* ** (10 pts) ** Compute the transition probability matrix $ P $ of the implied Markov chain. "
   ]
  },
  {
   "cell_type": "code",
   "execution_count": 6,
   "metadata": {
    "ExecuteTime": {
     "end_time": "2018-10-21T20:14:09.489797Z",
     "start_time": "2018-10-21T20:14:09.258446Z"
    },
    "colab": {},
    "colab_type": "code",
    "id": "WKlxCtockra1"
   },
   "outputs": [
    {
     "data": {
      "text/plain": [
       "<matplotlib.image.AxesImage at 0x28764411100>"
      ]
     },
     "execution_count": 6,
     "metadata": {},
     "output_type": "execute_result"
    },
    {
     "data": {
      "image/png": "[encoded data removed]",
      "text/plain": [
       "<Figure size 576x576 with 1 Axes>"
      ]
     },
     "metadata": {
      "needs_background": "light"
     },
     "output_type": "display_data"
    }
   ],
   "source": [
    "# You can either do this by hand (e.g., look at picture and write down matrix) or by automating the process.\n",
    "\n",
    "# By hand\n",
    "# P = np.asarray([[...],[...],[...],...])\n",
    "\n",
    "###\n",
    "\n",
    "# Or automated general function for Chutes and Ladders games\n",
    "def construct_P_matrix(n, dice, chutes, ladders):\n",
    "    '''\n",
    "    Arguments:\n",
    "        n {int} -- size of the state space\n",
    "        dice {numpy.array} -- probability distribution of the dice outcome\n",
    "        chutes {list[(int, int)]} -- the list of chutes, in pairs of (start, end)\n",
    "        ladders {list[(int, int)]} -- the list of ladders, in pairs of (start, end)\n",
    "\n",
    "    Returns:\n",
    "        P {numpy.array} -- n x n, transition matrix of the Markov chain\n",
    "    '''\n",
    "    # Add code here to build matrix\n",
    "    \n",
    "    ################################################################################\n",
    "    P = np.zeros((n, n))\n",
    "    num_ladders = len(ladders)\n",
    "    num_chutes  = len(chutes)\n",
    "    dice_length = len(dice)\n",
    "    n_expand = n + num_ladders + num_chutes\n",
    "    P_expand = np.zeros((n_expand, n_expand))\n",
    "    remove = [0] * (num_ladders + num_chutes)\n",
    "    \n",
    "    for i in range(0, n_expand) :\n",
    "        if i + dice_length < n_expand :\n",
    "            P_expand[i, (i+1):(i+1+dice_length)] = dice\n",
    "        else :\n",
    "            P_expand[i, i]      = 1 - sum(dice[0:(n_expand-(i+1))])\n",
    "            P_expand[i, (i+1):n_expand] = dice[0:(n_expand-(i+1))]\n",
    "            \n",
    "    for j in range(0, num_ladders) :\n",
    "        P_expand[:, (ladders[j][1]-1)] = P_expand[:, (ladders[j][1]-1)] + P_expand[:, (ladders[j][0]-1)]\n",
    "        remove[j] = ladders[j][0] - 1\n",
    "        \n",
    "    for k in range(0, num_chutes) :\n",
    "        P_expand[:, (chutes[k][1]-1)] = P_expand[:, (chutes[k][1]-1)] + P_expand[:, (chutes[k][0]-1)]\n",
    "        remove[num_ladders + k] = chutes[k][0] - 1\n",
    "        \n",
    "    P_remove_row = np.delete(P_expand, remove, 0)\n",
    "    P_remove_row_column = np.delete(P_remove_row, remove, 1)\n",
    "    P = P_remove_row_column\n",
    "    P[n-1, n-1] = 1\n",
    "    ################################################################################\n",
    "    \n",
    "    return P\n",
    "\n",
    "n = 16 ### number of states\n",
    "dice = np.array([1/4, 1/4, 1/4, 1/4]) ### probability distribution of dice\n",
    "chutes = [(13, 2), (17, 6)]               ### (sorce, destination) pairs of chutes\n",
    "ladders = [(4, 8), (14, 19)]              ### (sorce, destination) pairs of ladders\n",
    "P = construct_P_matrix(n, dice, chutes, ladders)\n",
    "###\n",
    "\n",
    "# Plot transition matrix\n",
    "plt.figure(figsize=(8, 8))\n",
    "plt.imshow(P)"
   ]
  },
  {
   "cell_type": "markdown",
   "metadata": {
    "colab_type": "text",
    "id": "mljiZTzBkra2"
   },
   "source": [
    "* ** (10 pts) ** For this Markov chain, use function from Exercise 1 to compute and plot the cumulative distribution of the number turns a player takes to finish (i.e., the probability $ \\Pr(T_{1, 20} \\le m) $ where $ T_{1, 20} $ is the hitting time from state 1 to state 20).\n",
    "Compute and print the mean $\\mathbb{E}[T_{1,20}]$. "
   ]
  },
  {
   "cell_type": "code",
   "execution_count": 7,
   "metadata": {
    "ExecuteTime": {
     "end_time": "2018-10-21T20:14:09.927705Z",
     "start_time": "2018-10-21T20:14:09.492238Z"
    },
    "colab": {},
    "colab_type": "code",
    "id": "ndLOj9mZkra3"
   },
   "outputs": [
    {
     "data": {
      "text/plain": [
       "Text(0.5, 1.0, 'E[T_{1,20}] = 12.792331782072552')"
      ]
     },
     "execution_count": 7,
     "metadata": {},
     "output_type": "execute_result"
    },
    {
     "data": {
      "image/png": "[encoded data removed]",
      "text/plain": [
       "<Figure size 720x432 with 1 Axes>"
      ]
     },
     "metadata": {
      "needs_background": "light"
     },
     "output_type": "display_data"
    }
   ],
   "source": [
    "# Use previous functions to complete this exercise\n",
    "Phi_list, ET = compute_Phi_ET(P, ns=100)\n",
    "\n",
    "m = np.arange(1, 101)   ### steps to be plotted\n",
    "Pr = Phi_list[m, 0, 15] ### \\Pr(T_{1,20} <= m) for all m\n",
    "E = ET[0, 15]           ### \\mathbb{E}[T_{1,20}]\n",
    "\n",
    "plt.figure(figsize=(10, 6))\n",
    "plt.plot(m ,Pr)\n",
    "plt.xlabel(r'm')\n",
    "plt.ylabel(r'Pr(T_{1,20} <= m)')\n",
    "plt.title(r'E[T_{1,20}] = ' + str(E))"
   ]
  },
  {
   "cell_type": "markdown",
   "metadata": {
    "colab_type": "text",
    "id": "zL6Wkg8Akra5"
   },
   "source": [
    "* ** (10 pts) ** Use function from Exercise 1 to generate 500 realizations from this Markov chain.  Then, use them to plot a histogram of $ T_{1, 20} $ and compute/print an estimate of the expected number of tosses $\\mathbb{E}\\left[T_{1,20}\\right]$."
   ]
  },
  {
   "cell_type": "code",
   "execution_count": 8,
   "metadata": {
    "ExecuteTime": {
     "end_time": "2018-10-21T20:14:10.923041Z",
     "start_time": "2018-10-21T20:14:09.929953Z"
    },
    "colab": {},
    "colab_type": "code",
    "id": "UJfVeRo8kra6"
   },
   "outputs": [
    {
     "data": {
      "text/plain": [
       "Text(0.5, 1.0, 'mean of T_{1,20} =12.598')"
      ]
     },
     "execution_count": 8,
     "metadata": {},
     "output_type": "execute_result"
    },
    {
     "data": {
      "image/png": "[encoded data removed]",
      "text/plain": [
       "<Figure size 720x432 with 1 Axes>"
      ]
     },
     "metadata": {
      "needs_background": "light"
     },
     "output_type": "display_data"
    }
   ],
   "source": [
    "# Use previous funcitons to complete this exercise\n",
    "T = simulate_hitting_time(P, [0, n-1], 500)\n",
    "plt.figure(figsize=(10, 6))\n",
    "plt.hist(T, bins=np.arange(max(T))-0.5)\n",
    "plt.title(r'mean of T_{1,20} =' + str(np.mean(T)))"
   ]
  },
  {
   "cell_type": "markdown",
   "metadata": {
    "colab_type": "text",
    "id": "KdbL1jtrkra8"
   },
   "source": [
    "* Optional Challenge: If the ﬁrst player rolls 4 and climbs the ladder to square 8, then what is the probability that the second player will win."
   ]
  },
  {
   "cell_type": "code",
   "execution_count": 9,
   "metadata": {
    "ExecuteTime": {
     "end_time": "2018-10-21T20:14:10.930664Z",
     "start_time": "2018-10-21T20:14:10.925316Z"
    },
    "colab": {},
    "colab_type": "code",
    "id": "QLAdpiSakra8"
   },
   "outputs": [],
   "source": [
    "# Use previous functions to complete this exercise\n",
    "\n",
    "### compute Pr_win"
   ]
  },
  {
   "cell_type": "markdown",
   "metadata": {
    "colab_type": "text",
    "id": "wK6CXa-Tkra_"
   },
   "source": [
    "### Example 1\n",
    "\n",
    "In a certain city, it is said that the weather is rainy with a 90% probability if it was rainy the previous day and with a 50% probability if it not rainy the previous day. \n",
    "If we assume that only the previous day’s weather matters, then we can model the weather of this city by a Markov chain with $ n = 2 $ states whose transitions are governed by\n",
    "$$\n",
    "    P = \n",
    "    \\begin{bmatrix}\n",
    "        0.9 & 0.1 \\\\\n",
    "        0.5 & 0.5\n",
    "    \\end{bmatrix}\n",
    "$$\n",
    "Under this model, what is the steady-state probability of rainy weather?\n"
   ]
  },
  {
   "cell_type": "code",
   "execution_count": 10,
   "metadata": {
    "ExecuteTime": {
     "end_time": "2018-10-21T20:14:10.940122Z",
     "start_time": "2018-10-21T20:14:10.932638Z"
    },
    "colab": {},
    "colab_type": "code",
    "id": "OXfntMIIkrbA"
   },
   "outputs": [
    {
     "data": {
      "text/plain": [
       "array([[0.83333333],\n",
       "       [0.16666667]])"
      ]
     },
     "execution_count": 10,
     "metadata": {},
     "output_type": "execute_result"
    }
   ],
   "source": [
    "# implement stationary_distribution(P) in fsmc.py\n",
    "\n",
    "P = np.array([[0.9, 0.1], [0.5, 0.5]])\n",
    "stationary_distribution(P)"
   ]
  },
  {
   "cell_type": "markdown",
   "metadata": {
    "colab_type": "text",
    "id": "fSOPhJkDkrbC"
   },
   "source": [
    "### Exercise 3\n",
    "\n",
    "** (10 pts) ** Write a program to compute the stationary distribution of a Markov chain when it is unique.\n",
    "Consider a game where the gameboard has 8 diﬀerent spaces arranged in a circle. \n",
    "During each turn, a player rolls two 4-sided dice and moves clockwise by a number of spaces equal to their sum. \n",
    "** (5 pts) ** Define the transition matrix for this 8-state Markov chain and compute its stationary distribution."
   ]
  },
  {
   "cell_type": "code",
   "execution_count": 11,
   "metadata": {
    "ExecuteTime": {
     "end_time": "2018-10-21T20:14:10.947659Z",
     "start_time": "2018-10-21T20:14:10.942035Z"
    },
    "colab": {},
    "colab_type": "code",
    "id": "NMgA712_krbD"
   },
   "outputs": [
    {
     "name": "stdout",
     "output_type": "stream",
     "text": [
      "[[0.0625 0.     0.0625 0.125  0.1875 0.25   0.1875 0.125 ]\n",
      " [0.125  0.0625 0.     0.0625 0.125  0.1875 0.25   0.1875]\n",
      " [0.1875 0.125  0.0625 0.     0.0625 0.125  0.1875 0.25  ]\n",
      " [0.25   0.1875 0.125  0.0625 0.     0.0625 0.125  0.1875]\n",
      " [0.1875 0.25   0.1875 0.125  0.0625 0.     0.0625 0.125 ]\n",
      " [0.125  0.1875 0.25   0.1875 0.125  0.0625 0.     0.0625]\n",
      " [0.0625 0.125  0.1875 0.25   0.1875 0.125  0.0625 0.    ]\n",
      " [0.     0.0625 0.125  0.1875 0.25   0.1875 0.125  0.0625]]\n"
     ]
    },
    {
     "data": {
      "text/plain": [
       "array([[0.125],\n",
       "       [0.125],\n",
       "       [0.125],\n",
       "       [0.125],\n",
       "       [0.125],\n",
       "       [0.125],\n",
       "       [0.125],\n",
       "       [0.125]])"
      ]
     },
     "execution_count": 11,
     "metadata": {},
     "output_type": "execute_result"
    }
   ],
   "source": [
    "# Use previous functions to complete this exercise\n",
    "### construct the transition matrix\n",
    "############################################################\n",
    "P = np.zeros((8, 8))\n",
    "###       [1/16, 0, 1/16, 2/16, 3/16, 4/16, 3/16, 2/16]\n",
    "P[0, :] = [1/16, 0, 1/16, 1/8, 3/16, 1/4, 3/16, 1/8]\n",
    "for row_state in range(1, 8) :\n",
    "    P[row_state, :] = np.roll(P[row_state-1, :], 1)\n",
    "############################################################\n",
    "print(P)\n",
    "stationary_distribution(P)"
   ]
  },
  {
   "cell_type": "markdown",
   "metadata": {
    "colab_type": "text",
    "id": "Sdb2inyQkrbF"
   },
   "source": [
    "Next, suppose that one space is special (e.g., state-1 of the Markov chain) and a player can only leave this space by rolling doubles (i.e., when both dice show the same value). Again, the player moves clockwise by a number of spaces equal to their sum. ** (5 pts) ** Deﬁne the transition matrix for this 8-state Markov chain and compute its stationary probability distribution."
   ]
  },
  {
   "cell_type": "code",
   "execution_count": 12,
   "metadata": {
    "ExecuteTime": {
     "end_time": "2018-10-21T20:14:10.954533Z",
     "start_time": "2018-10-21T20:14:10.949166Z"
    },
    "colab": {},
    "colab_type": "code",
    "id": "GDl2ZCUnkrbF"
   },
   "outputs": [
    {
     "name": "stdout",
     "output_type": "stream",
     "text": [
      "[[0.8125 0.     0.0625 0.     0.0625 0.     0.0625 0.    ]\n",
      " [0.125  0.0625 0.     0.0625 0.125  0.1875 0.25   0.1875]\n",
      " [0.1875 0.125  0.0625 0.     0.0625 0.125  0.1875 0.25  ]\n",
      " [0.25   0.1875 0.125  0.0625 0.     0.0625 0.125  0.1875]\n",
      " [0.1875 0.25   0.1875 0.125  0.0625 0.     0.0625 0.125 ]\n",
      " [0.125  0.1875 0.25   0.1875 0.125  0.0625 0.     0.0625]\n",
      " [0.0625 0.125  0.1875 0.25   0.1875 0.125  0.0625 0.    ]\n",
      " [0.     0.0625 0.125  0.1875 0.25   0.1875 0.125  0.0625]]\n"
     ]
    },
    {
     "data": {
      "text/plain": [
       "array([[0.41836864],\n",
       "       [0.08285234],\n",
       "       [0.10176963],\n",
       "       [0.07092795],\n",
       "       [0.09311176],\n",
       "       [0.0625555 ],\n",
       "       [0.09593429],\n",
       "       [0.07447989]])"
      ]
     },
     "execution_count": 12,
     "metadata": {},
     "output_type": "execute_result"
    }
   ],
   "source": [
    "# Use previous functions to complete this exercise\n",
    "### construct the transition matrix\n",
    "##############################################################\n",
    "P = np.zeros((8, 8))\n",
    "P[0, :] = [13/16, 0, 1/16, 0, 1/16, 0, 1/16, 0]\n",
    "###               [1/16, 0, 1/16, 2/16, 3/16, 4/16, 3/16, 2/16]\n",
    "P[1, :] = np.roll([1/16, 0, 1/16, 1/8, 3/16, 1/4, 3/16, 1/8], 1)\n",
    "for row_state in range(2, 8) :\n",
    "    P[row_state, :] = np.roll(P[row_state-1, :], 1)\n",
    "##############################################################\n",
    "print(P)\n",
    "stationary_distribution(P)"
   ]
  },
  {
   "cell_type": "code",
   "execution_count": null,
   "metadata": {},
   "outputs": [],
   "source": []
  },
  {
   "cell_type": "code",
   "execution_count": null,
   "metadata": {},
   "outputs": [],
   "source": []
  }
 ],
 "metadata": {
  "colab": {
   "collapsed_sections": [],
   "name": "fsmc_project.ipynb",
   "provenance": [],
   "toc_visible": true
  },
  "hide_input": false,
  "kernelspec": {
   "display_name": "Python 3",
   "language": "python",
   "name": "python3"
  },
  "language_info": {
   "codemirror_mode": {
    "name": "ipython",
    "version": 3
   },
   "file_extension": ".py",
   "mimetype": "text/x-python",
   "name": "python",
   "nbconvert_exporter": "python",
   "pygments_lexer": "ipython3",
   "version": "3.8.8"
  },
  "varInspector": {
   "cols": {
    "lenName": 16,
    "lenType": 16,
    "lenVar": 40
   },
   "kernels_config": {
    "python": {
     "delete_cmd_postfix": "",
     "delete_cmd_prefix": "del ",
     "library": "var_list.py",
     "varRefreshCmd": "print(var_dic_list())"
    },
    "r": {
     "delete_cmd_postfix": ") ",
     "delete_cmd_prefix": "rm(",
     "library": "var_list.r",
     "varRefreshCmd": "cat(var_dic_list()) "
    }
   },
   "types_to_exclude": [
    "module",
    "function",
    "builtin_function_or_method",
    "instance",
    "_Feature"
   ],
   "window_display": false
  }
 },
 "nbformat": 4,
 "nbformat_minor": 1
}
